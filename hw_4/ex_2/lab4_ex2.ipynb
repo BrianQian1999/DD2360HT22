{
  "nbformat": 4,
  "nbformat_minor": 0,
  "metadata": {
    "colab": {
      "provenance": [],
      "authorship_tag": "ABX9TyNEboAAKZXSI6f3/ZtnH33b",
      "include_colab_link": true
    },
    "kernelspec": {
      "name": "python3",
      "display_name": "Python 3"
    },
    "language_info": {
      "name": "python"
    },
    "accelerator": "GPU",
    "gpuClass": "standard"
  },
  "cells": [
    {
      "cell_type": "markdown",
      "metadata": {
        "id": "view-in-github",
        "colab_type": "text"
      },
      "source": [
        "<a href=\"https://colab.research.google.com/github/BrianQian1999/DD2360HT22/blob/main/hw_4/ex_2/lab4_ex2.ipynb\" target=\"_parent\"><img src=\"https://colab.research.google.com/assets/colab-badge.svg\" alt=\"Open In Colab\"/></a>"
      ]
    },
    {
      "cell_type": "code",
      "source": [
        "!nvcc lab4_ex2.cu -o lab4_ex2\n",
        "!./lab4_ex2 1024 256"
      ],
      "metadata": {
        "colab": {
          "base_uri": "https://localhost:8080/"
        },
        "id": "miNnMZygGOZn",
        "outputId": "66f8017f-a083-403e-8cb5-2452b9a7afd5"
      },
      "execution_count": null,
      "outputs": [
        {
          "output_type": "stream",
          "name": "stdout",
          "text": [
            "The input length is 1024\n",
            "The length of each segment is 256\n",
            "The number of segments is 4\n",
            "Result is CORRECT\n"
          ]
        }
      ]
    },
    {
      "cell_type": "code",
      "source": [
        "from google.colab import drive\n",
        "drive.mount('/content/gdrive')"
      ],
      "metadata": {
        "colab": {
          "base_uri": "https://localhost:8080/"
        },
        "id": "ZCtOFmEvpTVm",
        "outputId": "e59568aa-7d36-490f-b40b-e1313da26c78"
      },
      "execution_count": 1,
      "outputs": [
        {
          "output_type": "stream",
          "name": "stdout",
          "text": [
            "Mounted at /content/gdrive\n"
          ]
        }
      ]
    },
    {
      "cell_type": "code",
      "source": [
        "!nvcc lab4_ex2.cu -o lab4_ex2\n",
        "!nvcc lab4_ex2_nonstreamed.cu -o lab4_ex2_nonstreamed"
      ],
      "metadata": {
        "id": "Lon3NfgAJuw4"
      },
      "execution_count": 8,
      "outputs": []
    },
    {
      "cell_type": "code",
      "source": [
        "!nvprof --output-profile lab4_ex2_nonstreamed.nvvp -f ./lab4_ex2_nonstreamed 10240\n",
        "!cp lab4_ex2_nonstreamed.nvvp \"/content/gdrive/My Drive/\"\n",
        "!nvprof --output-profile lab4_ex2_streamed_1.nvvp -f ./lab4_ex2 10240 10240\n",
        "!cp lab4_ex2_streamed_1.nvvp \"/content/gdrive/My Drive/\"\n",
        "!nvprof --output-profile lab4_ex2_streamed_2.nvvp -f ./lab4_ex2 10240 5120\n",
        "!cp lab4_ex2_streamed_2.nvvp \"/content/gdrive/My Drive/\"\n",
        "!nvprof --output-profile lab4_ex2_streamed_4.nvvp -f ./lab4_ex2 10240 2560\n",
        "!cp lab4_ex2_streamed_4.nvvp \"/content/gdrive/My Drive/\"\n",
        "!nvprof --output-profile lab4_ex2_streamed_8.nvvp -f ./lab4_ex2 10240 1280\n",
        "!cp lab4_ex2_streamed_8.nvvp \"/content/gdrive/My Drive/\""
      ],
      "metadata": {
        "colab": {
          "base_uri": "https://localhost:8080/"
        },
        "id": "oZUIA6YmprR4",
        "outputId": "147846e5-4200-4888-80ea-6b542c9649b0"
      },
      "execution_count": 6,
      "outputs": [
        {
          "output_type": "stream",
          "name": "stdout",
          "text": [
            "The input length is 10240\n",
            "==5899== NVPROF is profiling process 5899, command: ./lab4_ex2_nonstreamed 10240\n",
            "Result is CORRECT\n",
            "==5899== Generated result file: /content/lab4_ex2_nonstreamed.nvvp\n",
            "The input length is 10240\n",
            "The length of each segment is 10240\n",
            "The number of segments is 1\n",
            "==5915== NVPROF is profiling process 5915, command: ./lab4_ex2 10240 10240\n",
            "Result is CORRECT\n",
            "==5915== Generated result file: /content/lab4_ex2_streamed_1.nvvp\n",
            "The input length is 10240\n",
            "The length of each segment is 5120\n",
            "The number of segments is 2\n",
            "==5935== NVPROF is profiling process 5935, command: ./lab4_ex2 10240 5120\n",
            "Result is CORRECT\n",
            "==5935== Generated result file: /content/lab4_ex2_streamed_2.nvvp\n",
            "The input length is 10240\n",
            "The length of each segment is 2560\n",
            "The number of segments is 4\n",
            "==5951== NVPROF is profiling process 5951, command: ./lab4_ex2 10240 2560\n",
            "Result is CORRECT\n",
            "==5951== Generated result file: /content/lab4_ex2_streamed_4.nvvp\n",
            "The input length is 10240\n",
            "The length of each segment is 1280\n",
            "The number of segments is 8\n",
            "==5969== NVPROF is profiling process 5969, command: ./lab4_ex2 10240 1280\n",
            "Result is CORRECT\n",
            "==5969== Generated result file: /content/lab4_ex2_streamed_8.nvvp\n"
          ]
        }
      ]
    }
  ]
}