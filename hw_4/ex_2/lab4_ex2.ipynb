{
  "nbformat": 4,
  "nbformat_minor": 0,
  "metadata": {
    "colab": {
      "provenance": [],
      "authorship_tag": "ABX9TyOI3Zh+DPQgnhEceC2v30Tn",
      "include_colab_link": true
    },
    "kernelspec": {
      "name": "python3",
      "display_name": "Python 3"
    },
    "language_info": {
      "name": "python"
    },
    "accelerator": "GPU",
    "gpuClass": "standard"
  },
  "cells": [
    {
      "cell_type": "markdown",
      "metadata": {
        "id": "view-in-github",
        "colab_type": "text"
      },
      "source": [
        "<a href=\"https://colab.research.google.com/github/BrianQian1999/DD2360HT22/blob/main/hw_4/ex_2/lab4_ex2.ipynb\" target=\"_parent\"><img src=\"https://colab.research.google.com/assets/colab-badge.svg\" alt=\"Open In Colab\"/></a>"
      ]
    },
    {
      "cell_type": "code",
      "source": [
        "!nvcc lab4_ex2.cu -o lab4_ex2\n",
        "!./lab4_ex2 1024 256"
      ],
      "metadata": {
        "colab": {
          "base_uri": "https://localhost:8080/"
        },
        "id": "miNnMZygGOZn",
        "outputId": "66f8017f-a083-403e-8cb5-2452b9a7afd5"
      },
      "execution_count": null,
      "outputs": [
        {
          "output_type": "stream",
          "name": "stdout",
          "text": [
            "The input length is 1024\n",
            "The length of each segment is 256\n",
            "The number of segments is 4\n",
            "Result is CORRECT\n"
          ]
        }
      ]
    },
    {
      "cell_type": "code",
      "source": [
        "from google.colab import drive\n",
        "drive.mount('/content/gdrive')"
      ],
      "metadata": {
        "colab": {
          "base_uri": "https://localhost:8080/"
        },
        "id": "ZCtOFmEvpTVm",
        "outputId": "e59568aa-7d36-490f-b40b-e1313da26c78"
      },
      "execution_count": 1,
      "outputs": [
        {
          "output_type": "stream",
          "name": "stdout",
          "text": [
            "Mounted at /content/gdrive\n"
          ]
        }
      ]
    },
    {
      "cell_type": "code",
      "source": [
        "!nvcc lab4_ex2.cu -o lab4_ex2\n",
        "!nvcc lab4_ex2_nonstreamed.cu -o lab4_ex2_nonstreamed"
      ],
      "metadata": {
        "id": "Lon3NfgAJuw4"
      },
      "execution_count": 24,
      "outputs": []
    },
    {
      "cell_type": "code",
      "source": [
        "!nvprof --output-profile lab4_ex2_nonstreamed.nvvp -f ./lab4_ex2_nonstreamed 102400000\n",
        "!cp lab4_ex2_nonstreamed.nvvp \"/content/gdrive/My Drive/\"\n",
        "!nvprof --output-profile lab4_ex2_streamed_1.nvvp -f ./lab4_ex2 102400000 102400000\n",
        "!cp lab4_ex2_streamed_1.nvvp \"/content/gdrive/My Drive/\"\n",
        "!nvprof --output-profile lab4_ex2_streamed_2.nvvp -f ./lab4_ex2 102400000 51200000\n",
        "!cp lab4_ex2_streamed_2.nvvp \"/content/gdrive/My Drive/\"\n",
        "!nvprof --output-profile lab4_ex2_streamed_4.nvvp -f ./lab4_ex2 102400000 25600000\n",
        "!cp lab4_ex2_streamed_4.nvvp \"/content/gdrive/My Drive/\"\n",
        "!nvprof --output-profile lab4_ex2_streamed_8.nvvp -f ./lab4_ex2 102400000 12800000\n",
        "!cp lab4_ex2_streamed_8.nvvp \"/content/gdrive/My Drive/\"\n",
        "!nvprof --output-profile lab4_ex2_streamed_128.nvvp -f ./lab4_ex2 102400000 800000\n",
        "!cp lab4_ex2_streamed_128.nvvp \"/content/gdrive/My Drive/\""
      ],
      "metadata": {
        "colab": {
          "base_uri": "https://localhost:8080/"
        },
        "id": "oZUIA6YmprR4",
        "outputId": "0f1bceee-f119-43c2-f54e-7a75d9203def"
      },
      "execution_count": 25,
      "outputs": [
        {
          "output_type": "stream",
          "name": "stdout",
          "text": [
            "The input length is 102400000\n",
            "==32088== NVPROF is profiling process 32088, command: ./lab4_ex2_nonstreamed 102400000\n",
            "Result is CORRECT\n",
            "==32088== Generated result file: /content/lab4_ex2_nonstreamed.nvvp\n",
            "The input length is 102400000\n",
            "The length of each segment is 102400000\n",
            "The number of segments is 1\n",
            "==32140== NVPROF is profiling process 32140, command: ./lab4_ex2 102400000 102400000\n",
            "Result is CORRECT\n",
            "==32140== Generated result file: /content/lab4_ex2_streamed_1.nvvp\n",
            "The input length is 102400000\n",
            "The length of each segment is 51200000\n",
            "The number of segments is 2\n",
            "==32186== NVPROF is profiling process 32186, command: ./lab4_ex2 102400000 51200000\n",
            "Result is CORRECT\n",
            "==32186== Generated result file: /content/lab4_ex2_streamed_2.nvvp\n",
            "The input length is 102400000\n",
            "The length of each segment is 25600000\n",
            "The number of segments is 4\n",
            "==32230== NVPROF is profiling process 32230, command: ./lab4_ex2 102400000 25600000\n",
            "Result is CORRECT\n",
            "==32230== Generated result file: /content/lab4_ex2_streamed_4.nvvp\n",
            "The input length is 102400000\n",
            "The length of each segment is 12800000\n",
            "The number of segments is 8\n",
            "==32272== NVPROF is profiling process 32272, command: ./lab4_ex2 102400000 12800000\n",
            "Result is CORRECT\n",
            "==32272== Generated result file: /content/lab4_ex2_streamed_8.nvvp\n",
            "The input length is 102400000\n",
            "The length of each segment is 800000\n",
            "The number of segments is 128\n",
            "==32318== NVPROF is profiling process 32318, command: ./lab4_ex2 102400000 800000\n",
            "Result is CORRECT\n",
            "==32318== Generated result file: /content/lab4_ex2_streamed_128.nvvp\n"
          ]
        }
      ]
    }
  ]
}