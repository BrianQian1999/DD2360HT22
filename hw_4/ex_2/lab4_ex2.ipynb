{
  "nbformat": 4,
  "nbformat_minor": 0,
  "metadata": {
    "colab": {
      "provenance": [],
      "authorship_tag": "ABX9TyMqql/plvVmUTJ4nvNa1t65",
      "include_colab_link": true
    },
    "kernelspec": {
      "name": "python3",
      "display_name": "Python 3"
    },
    "language_info": {
      "name": "python"
    },
    "accelerator": "GPU",
    "gpuClass": "standard"
  },
  "cells": [
    {
      "cell_type": "markdown",
      "metadata": {
        "id": "view-in-github",
        "colab_type": "text"
      },
      "source": [
        "<a href=\"https://colab.research.google.com/github/BrianQian1999/DD2360HT22/blob/main/hw_4/ex_2/lab4_ex2.ipynb\" target=\"_parent\"><img src=\"https://colab.research.google.com/assets/colab-badge.svg\" alt=\"Open In Colab\"/></a>"
      ]
    },
    {
      "cell_type": "code",
      "source": [
        "!nvcc lab4_ex2.cu -o lab4_ex2\n",
        "!nvcc lab4_ex2_nonstreamed.cu -o lab4_ex2_nonstreamed"
      ],
      "metadata": {
        "id": "miNnMZygGOZn"
      },
      "execution_count": null,
      "outputs": []
    },
    {
      "cell_type": "code",
      "source": [
        "!bash ./run.sh | grep Elasped > q1_rep"
      ],
      "metadata": {
        "id": "yd_pUFg-hVEr"
      },
      "execution_count": null,
      "outputs": []
    },
    {
      "cell_type": "code",
      "source": [
        "!cat q1_rep | grep -o '[0-9]\\+' > q1_rep2"
      ],
      "metadata": {
        "id": "SD-S3sTkjPj3"
      },
      "execution_count": null,
      "outputs": []
    },
    {
      "cell_type": "code",
      "source": [
        "from google.colab import drive\n",
        "drive.mount('/content/gdrive', force_remount=True)"
      ],
      "metadata": {
        "colab": {
          "base_uri": "https://localhost:8080/"
        },
        "id": "ZCtOFmEvpTVm",
        "outputId": "1c8dcb49-9105-4e51-b508-368787956c2e"
      },
      "execution_count": 39,
      "outputs": [
        {
          "output_type": "stream",
          "name": "stdout",
          "text": [
            "Mounted at /content/gdrive\n"
          ]
        }
      ]
    },
    {
      "cell_type": "code",
      "source": [
        "!nvprof --profile-from-start off --output-profile lab4_ex2_nonstreamed.nvvp -f ./lab4_ex2_nonstreamed 40960000\n",
        "!cp lab4_ex2_nonstreamed.nvvp \"/content/gdrive/My Drive/\""
      ],
      "metadata": {
        "id": "HoITvQYZqUrE",
        "outputId": "2965026f-baa2-40dd-bfd3-caa15a9163d2",
        "colab": {
          "base_uri": "https://localhost:8080/"
        }
      },
      "execution_count": 40,
      "outputs": [
        {
          "output_type": "stream",
          "name": "stdout",
          "text": [
            "The input length is 40960000\n",
            "==23572== NVPROF is profiling process 23572, command: ./lab4_ex2_nonstreamed 40960000\n",
            "Result is CORRECT\n",
            "==23572== Generated result file: /content/lab4_ex2_nonstreamed.nvvp\n"
          ]
        }
      ]
    },
    {
      "cell_type": "code",
      "source": [
        "!nvprof --profile-from-start off --output-profile lab4_ex2_streamed_1.nvvp -f ./lab4_ex2 40960000 40960000\n",
        "!nvprof --profile-from-start off --output-profile lab4_ex2_streamed_4.nvvp -f ./lab4_ex2 40960000 10240000\n",
        "!nvprof --profile-from-start off --output-profile lab4_ex2_streamed_8.nvvp -f ./lab4_ex2 40960000 5120000\n",
        "!nvprof --profile-from-start off --output-profile lab4_ex2_streamed_16.nvvp -f ./lab4_ex2 40960000 2560000\n",
        "!nvprof --profile-from-start off --output-profile lab4_ex2_streamed_32.nvvp -f ./lab4_ex2 40960000 1280000\n",
        "!cp lab4_ex2_streamed_1.nvvp \"/content/gdrive/My Drive/\"\n",
        "!cp lab4_ex2_streamed_4.nvvp \"/content/gdrive/My Drive/\"\n",
        "!cp lab4_ex2_streamed_8.nvvp \"/content/gdrive/My Drive/\"\n",
        "!cp lab4_ex2_streamed_16.nvvp \"/content/gdrive/My Drive/\"\n",
        "!cp lab4_ex2_streamed_32.nvvp \"/content/gdrive/My Drive/\""
      ],
      "metadata": {
        "id": "JWoiiJcuwO10",
        "outputId": "59b39af5-e87b-4c3e-8514-f0b1f9dc6bfc",
        "colab": {
          "base_uri": "https://localhost:8080/"
        }
      },
      "execution_count": 41,
      "outputs": [
        {
          "output_type": "stream",
          "name": "stdout",
          "text": [
            "The input length is 40960000\n",
            "The length of each segment is 40960000\n",
            "The number of segments is 1\n",
            "==25064== NVPROF is profiling process 25064, command: ./lab4_ex2 40960000 40960000\n",
            "Result is CORRECT\n",
            "==25064== Generated result file: /content/lab4_ex2_streamed_1.nvvp\n",
            "The input length is 40960000\n",
            "The length of each segment is 10240000\n",
            "The number of segments is 4\n",
            "==25101== NVPROF is profiling process 25101, command: ./lab4_ex2 40960000 10240000\n",
            "Result is CORRECT\n",
            "==25101== Generated result file: /content/lab4_ex2_streamed_4.nvvp\n",
            "The input length is 40960000\n",
            "The length of each segment is 5120000\n",
            "The number of segments is 8\n",
            "==25136== NVPROF is profiling process 25136, command: ./lab4_ex2 40960000 5120000\n",
            "Result is CORRECT\n",
            "==25136== Generated result file: /content/lab4_ex2_streamed_8.nvvp\n",
            "The input length is 40960000\n",
            "The length of each segment is 2560000\n",
            "The number of segments is 16\n",
            "==25173== NVPROF is profiling process 25173, command: ./lab4_ex2 40960000 2560000\n",
            "Result is CORRECT\n",
            "==25173== Generated result file: /content/lab4_ex2_streamed_16.nvvp\n",
            "The input length is 40960000\n",
            "The length of each segment is 1280000\n",
            "The number of segments is 32\n",
            "==25210== NVPROF is profiling process 25210, command: ./lab4_ex2 40960000 1280000\n",
            "Result is CORRECT\n",
            "==25210== Generated result file: /content/lab4_ex2_streamed_32.nvvp\n"
          ]
        }
      ]
    }
  ]
}