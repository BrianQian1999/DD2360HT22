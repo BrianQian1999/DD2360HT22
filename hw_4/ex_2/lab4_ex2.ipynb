{
  "nbformat": 4,
  "nbformat_minor": 0,
  "metadata": {
    "colab": {
      "provenance": [],
      "authorship_tag": "ABX9TyPqDFFr0bq/LDmLO0j67HqG",
      "include_colab_link": true
    },
    "kernelspec": {
      "name": "python3",
      "display_name": "Python 3"
    },
    "language_info": {
      "name": "python"
    },
    "accelerator": "GPU",
    "gpuClass": "standard"
  },
  "cells": [
    {
      "cell_type": "markdown",
      "metadata": {
        "id": "view-in-github",
        "colab_type": "text"
      },
      "source": [
        "<a href=\"https://colab.research.google.com/github/BrianQian1999/DD2360HT22/blob/main/hw_4/ex_2/lab4_ex2.ipynb\" target=\"_parent\"><img src=\"https://colab.research.google.com/assets/colab-badge.svg\" alt=\"Open In Colab\"/></a>"
      ]
    },
    {
      "cell_type": "code",
      "source": [
        "!nvcc lab4_ex2.cu -o lab4_ex2\n",
        "!nvcc lab4_ex2_nonstreamed.cu -o lab4_ex2_nonstreamed"
      ],
      "metadata": {
        "id": "miNnMZygGOZn"
      },
      "execution_count": 29,
      "outputs": []
    },
    {
      "cell_type": "code",
      "source": [
        "!bash ./run.sh | grep Elasped > q1_rep"
      ],
      "metadata": {
        "id": "yd_pUFg-hVEr"
      },
      "execution_count": 22,
      "outputs": []
    },
    {
      "cell_type": "code",
      "source": [
        "!cat q1_rep | grep -o '[0-9]\\+' > q1_rep2"
      ],
      "metadata": {
        "id": "SD-S3sTkjPj3"
      },
      "execution_count": 23,
      "outputs": []
    },
    {
      "cell_type": "code",
      "source": [
        "from google.colab import drive\n",
        "drive.mount('/content/gdrive', force_remount=True)"
      ],
      "metadata": {
        "colab": {
          "base_uri": "https://localhost:8080/"
        },
        "id": "ZCtOFmEvpTVm",
        "outputId": "c217a2de-e411-4917-d696-9e13c193bfa3"
      },
      "execution_count": 37,
      "outputs": [
        {
          "output_type": "stream",
          "name": "stdout",
          "text": [
            "Mounted at /content/gdrive\n"
          ]
        }
      ]
    },
    {
      "cell_type": "code",
      "source": [
        "!nvprof --profile-from-start off --output-profile lab4_ex2_nonstreamed.nvvp -f ./lab4_ex2_nonstreamed 40960000\n",
        "!cp lab4_ex2_nonstreamed.nvvp \"/content/gdrive/My Drive/\""
      ],
      "metadata": {
        "id": "HoITvQYZqUrE",
        "outputId": "52d26437-6088-4344-fbb1-0f4c4375691a",
        "colab": {
          "base_uri": "https://localhost:8080/"
        }
      },
      "execution_count": 38,
      "outputs": [
        {
          "output_type": "stream",
          "name": "stdout",
          "text": [
            "The input length is 40960000\n",
            "==22123== NVPROF is profiling process 22123, command: ./lab4_ex2_nonstreamed 40960000\n",
            "Result is CORRECT\n",
            "==22123== Generated result file: /content/lab4_ex2_nonstreamed.nvvp\n"
          ]
        }
      ]
    }
  ]
}