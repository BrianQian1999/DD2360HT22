{
  "nbformat": 4,
  "nbformat_minor": 0,
  "metadata": {
    "colab": {
      "provenance": [],
      "authorship_tag": "ABX9TyMfHtygdf0afFcmkIrSDtGp",
      "include_colab_link": true
    },
    "kernelspec": {
      "name": "python3",
      "display_name": "Python 3"
    },
    "language_info": {
      "name": "python"
    },
    "accelerator": "GPU",
    "gpuClass": "standard"
  },
  "cells": [
    {
      "cell_type": "markdown",
      "metadata": {
        "id": "view-in-github",
        "colab_type": "text"
      },
      "source": [
        "<a href=\"https://colab.research.google.com/github/BrianQian1999/DD2360HT22/blob/main/hw_4/ex_3/lab4_ex3.ipynb\" target=\"_parent\"><img src=\"https://colab.research.google.com/assets/colab-badge.svg\" alt=\"Open In Colab\"/></a>"
      ]
    },
    {
      "cell_type": "code",
      "execution_count": 3,
      "metadata": {
        "colab": {
          "base_uri": "https://localhost:8080/"
        },
        "id": "1oTfTXaVMkfn",
        "outputId": "46621368-e590-4829-b921-7502f36f20e4"
      },
      "outputs": [
        {
          "output_type": "stream",
          "name": "stdout",
          "text": [
            "Input matrix dim (128 x 256) (256 x 128) (128 x 128)\n",
            "==2750== NVPROF is profiling process 2750, command: ./lab4_ex3_baseline 128 256 128\n",
            "GEMM result is CORRECT\n",
            "==2750== Profiling application: ./lab4_ex3_baseline 128 256 128\n",
            "==2750== Profiling result:\n",
            "            Type  Time(%)      Time     Calls       Avg       Min       Max  Name\n",
            " GPU activities:   69.14%  135.52us         1  135.52us  135.52us  135.52us  gemm(double*, double*, double*, int, int, int, int)\n",
            "                   24.69%  48.384us         2  24.192us  24.032us  24.352us  [CUDA memcpy HtoD]\n",
            "                    6.17%  12.096us         1  12.096us  12.096us  12.096us  [CUDA memcpy DtoH]\n",
            "      API calls:   99.59%  289.37ms         3  96.458ms  2.3230us  289.37ms  cudaMalloc\n",
            "                    0.14%  414.44us         3  138.15us  77.832us  247.44us  cudaMemcpy\n",
            "                    0.13%  379.68us         1  379.68us  379.68us  379.68us  cuDeviceTotalMem\n",
            "                    0.06%  166.94us         3  55.647us  3.7350us  149.97us  cudaFree\n",
            "                    0.05%  159.11us       101  1.5750us     138ns  67.328us  cuDeviceGetAttribute\n",
            "                    0.01%  30.711us         1  30.711us  30.711us  30.711us  cuDeviceGetName\n",
            "                    0.01%  27.400us         1  27.400us  27.400us  27.400us  cudaLaunchKernel\n",
            "                    0.00%  5.3610us         1  5.3610us  5.3610us  5.3610us  cuDeviceGetPCIBusId\n",
            "                    0.00%  1.3240us         3     441ns     162ns     829ns  cuDeviceGetCount\n",
            "                    0.00%  1.2900us         2     645ns     222ns  1.0680us  cuDeviceGet\n",
            "                    0.00%     320ns         1     320ns     320ns     320ns  cuDeviceGetUuid\n",
            "Input matrix dim (256 x 256) (256 x 256) (256 x 256)\n",
            "==2767== NVPROF is profiling process 2767, command: ./lab4_ex3_baseline 256 256 256\n",
            "GEMM result is CORRECT\n",
            "==2767== Profiling application: ./lab4_ex3_baseline 256 256 256\n",
            "==2767== Profiling result:\n",
            "            Type  Time(%)      Time     Calls       Avg       Min       Max  Name\n",
            " GPU activities:   80.03%  531.48us         1  531.48us  531.48us  531.48us  gemm(double*, double*, double*, int, int, int, int)\n",
            "                   13.66%  90.750us         2  45.375us  45.087us  45.663us  [CUDA memcpy HtoD]\n",
            "                    6.31%  41.887us         1  41.887us  41.887us  41.887us  [CUDA memcpy DtoH]\n",
            "      API calls:   99.31%  285.41ms         3  95.138ms  2.4760us  285.41ms  cudaMalloc\n",
            "                    0.43%  1.2348ms         3  411.61us  130.30us  943.32us  cudaMemcpy\n",
            "                    0.13%  377.44us         1  377.44us  377.44us  377.44us  cuDeviceTotalMem\n",
            "                    0.05%  156.96us         3  52.319us  3.5180us  134.73us  cudaFree\n",
            "                    0.05%  143.65us       101  1.4220us     127ns  62.626us  cuDeviceGetAttribute\n",
            "                    0.01%  32.894us         1  32.894us  32.894us  32.894us  cuDeviceGetName\n",
            "                    0.01%  27.945us         1  27.945us  27.945us  27.945us  cudaLaunchKernel\n",
            "                    0.00%  6.0140us         1  6.0140us  6.0140us  6.0140us  cuDeviceGetPCIBusId\n",
            "                    0.00%  1.6800us         3     560ns     202ns  1.1920us  cuDeviceGetCount\n",
            "                    0.00%  1.2470us         2     623ns     231ns  1.0160us  cuDeviceGet\n",
            "                    0.00%     228ns         1     228ns     228ns     228ns  cuDeviceGetUuid\n",
            "Input matrix dim (256 x 512) (512 x 256) (256 x 256)\n",
            "==2784== NVPROF is profiling process 2784, command: ./lab4_ex3_baseline 256 512 256\n",
            "GEMM result is CORRECT\n",
            "==2784== Profiling application: ./lab4_ex3_baseline 256 512 256\n",
            "==2784== Profiling result:\n",
            "            Type  Time(%)      Time     Calls       Avg       Min       Max  Name\n",
            " GPU activities:   82.92%  1.0557ms         1  1.0557ms  1.0557ms  1.0557ms  gemm(double*, double*, double*, int, int, int, int)\n",
            "                   13.79%  175.61us         2  87.806us  87.550us  88.062us  [CUDA memcpy HtoD]\n",
            "                    3.29%  41.919us         1  41.919us  41.919us  41.919us  [CUDA memcpy DtoH]\n",
            "      API calls:   99.01%  288.00ms         3  95.999ms  3.3530us  287.91ms  cudaMalloc\n",
            "                    0.69%  2.0191ms         3  673.03us  238.53us  1.4616ms  cudaMemcpy\n",
            "                    0.12%  350.55us         1  350.55us  350.55us  350.55us  cuDeviceTotalMem\n",
            "                    0.09%  266.60us         3  88.866us  18.730us  126.06us  cudaFree\n",
            "                    0.05%  148.40us       101  1.4690us     130ns  62.788us  cuDeviceGetAttribute\n",
            "                    0.02%  56.594us         1  56.594us  56.594us  56.594us  cudaLaunchKernel\n",
            "                    0.01%  27.269us         1  27.269us  27.269us  27.269us  cuDeviceGetName\n",
            "                    0.00%  5.1450us         1  5.1450us  5.1450us  5.1450us  cuDeviceGetPCIBusId\n",
            "                    0.00%  1.3770us         3     459ns     171ns     893ns  cuDeviceGetCount\n",
            "                    0.00%  1.3590us         2     679ns     255ns  1.1040us  cuDeviceGet\n",
            "                    0.00%     277ns         1     277ns     277ns     277ns  cuDeviceGetUuid\n",
            "Input matrix dim (512 x 512) (512 x 512) (512 x 512)\n",
            "==2799== NVPROF is profiling process 2799, command: ./lab4_ex3_baseline 512 512 512\n",
            "GEMM result is CORRECT\n",
            "==2799== Profiling application: ./lab4_ex3_baseline 512 512 512\n",
            "==2799== Profiling result:\n",
            "            Type  Time(%)      Time     Calls       Avg       Min       Max  Name\n",
            " GPU activities:   81.97%  3.6440ms         1  3.6440ms  3.6440ms  3.6440ms  gemm(double*, double*, double*, int, int, int, int)\n",
            "                   14.35%  638.00us         2  319.00us  299.93us  338.07us  [CUDA memcpy HtoD]\n",
            "                    3.68%  163.77us         1  163.77us  163.77us  163.77us  [CUDA memcpy DtoH]\n",
            "      API calls:   97.61%  289.41ms         3  96.471ms  79.169us  289.25ms  cudaMalloc\n",
            "                    2.07%  6.1248ms         3  2.0416ms  494.12us  5.1197ms  cudaMemcpy\n",
            "                    0.13%  396.72us         3  132.24us  117.63us  160.40us  cudaFree\n",
            "                    0.12%  341.92us         1  341.92us  341.92us  341.92us  cuDeviceTotalMem\n",
            "                    0.05%  139.65us       101  1.3820us     126ns  60.226us  cuDeviceGetAttribute\n",
            "                    0.01%  34.397us         1  34.397us  34.397us  34.397us  cuDeviceGetName\n",
            "                    0.01%  32.891us         1  32.891us  32.891us  32.891us  cudaLaunchKernel\n",
            "                    0.00%  5.6060us         1  5.6060us  5.6060us  5.6060us  cuDeviceGetPCIBusId\n",
            "                    0.00%  1.8020us         3     600ns     264ns  1.1410us  cuDeviceGetCount\n",
            "                    0.00%     930ns         2     465ns     179ns     751ns  cuDeviceGet\n",
            "                    0.00%     256ns         1     256ns     256ns     256ns  cuDeviceGetUuid\n"
          ]
        }
      ],
      "source": [
        "!nvcc lab4_ex3.cu -o lab4_ex3_baseline\n",
        "!nvprof ./lab4_ex3_baseline 128 256 128\n",
        "!nvprof ./lab4_ex3_baseline 256 256 256\n",
        "!nvprof ./lab4_ex3_baseline 256 512 256\n",
        "!nvprof ./lab4_ex3_baseline 512 512 512"
      ]
    },
    {
      "cell_type": "code",
      "source": [
        "!nvcc lab4_ex3_pinned.cu -o lab4_ex3_pinned\n",
        "!nvprof ./lab4_ex3_pinned 128 256 128\n",
        "!nvprof ./lab4_ex3_pinned 256 256 256\n",
        "!nvprof ./lab4_ex3_pinned 256 512 256\n",
        "!nvprof ./lab4_ex3_pinned 512 512 512"
      ],
      "metadata": {
        "colab": {
          "base_uri": "https://localhost:8080/"
        },
        "id": "gfC7qgiAQ-L3",
        "outputId": "bc65a032-1c46-434a-8318-50a57f87fd12"
      },
      "execution_count": 6,
      "outputs": [
        {
          "output_type": "stream",
          "name": "stdout",
          "text": [
            "Input matrix dim (128 x 256) (256 x 128) (128 x 128)\n",
            "==5984== NVPROF is profiling process 5984, command: ./lab4_ex3_pinned 128 256 128\n",
            "GEMM result is CORRECT\n",
            "==5984== Profiling application: ./lab4_ex3_pinned 128 256 128\n",
            "==5984== Profiling result:\n",
            "            Type  Time(%)      Time     Calls       Avg       Min       Max  Name\n",
            " GPU activities:   68.45%  135.01us         1  135.01us  135.01us  135.01us  gemm(double*, double*, double*, int, int, int, int)\n",
            "                   25.81%  50.910us         2  25.455us  23.903us  27.007us  [CUDA memcpy HtoD]\n",
            "                    5.74%  11.327us         1  11.327us  11.327us  11.327us  [CUDA memcpy DtoH]\n",
            "      API calls:   99.44%  299.91ms         3  99.970ms  3.2320us  299.90ms  cudaMallocHost\n",
            "                    0.15%  461.87us         3  153.96us  2.6770us  450.93us  cudaFreeHost\n",
            "                    0.13%  403.40us         1  403.40us  403.40us  403.40us  cuDeviceTotalMem\n",
            "                    0.08%  252.10us         3  84.032us  35.659us  154.06us  cudaMemcpy\n",
            "                    0.07%  217.31us         3  72.438us  2.4200us  211.19us  cudaMalloc\n",
            "                    0.05%  154.23us       101  1.5270us     145ns  66.808us  cuDeviceGetAttribute\n",
            "                    0.04%  126.14us         3  42.048us  3.7370us  113.12us  cudaFree\n",
            "                    0.01%  30.650us         1  30.650us  30.650us  30.650us  cuDeviceGetName\n",
            "                    0.01%  29.353us         1  29.353us  29.353us  29.353us  cudaLaunchKernel\n",
            "                    0.00%  7.4870us         1  7.4870us  7.4870us  7.4870us  cuDeviceGetPCIBusId\n",
            "                    0.00%  1.7200us         3     573ns     224ns  1.0920us  cuDeviceGetCount\n",
            "                    0.00%  1.6480us         2     824ns     355ns  1.2930us  cuDeviceGet\n",
            "                    0.00%     290ns         1     290ns     290ns     290ns  cuDeviceGetUuid\n",
            "Input matrix dim (256 x 256) (256 x 256) (256 x 256)\n",
            "==6003== NVPROF is profiling process 6003, command: ./lab4_ex3_pinned 256 256 256\n",
            "GEMM result is CORRECT\n",
            "==6003== Profiling application: ./lab4_ex3_pinned 256 256 256\n",
            "==6003== Profiling result:\n",
            "            Type  Time(%)      Time     Calls       Avg       Min       Max  Name\n",
            " GPU activities:   79.89%  533.85us         1  533.85us  533.85us  533.85us  gemm(double*, double*, double*, int, int, int, int)\n",
            "                   13.95%  93.214us         2  46.607us  44.959us  48.255us  [CUDA memcpy HtoD]\n",
            "                    6.16%  41.152us         1  41.152us  41.152us  41.152us  [CUDA memcpy DtoH]\n",
            "      API calls:   99.25%  299.68ms         3  99.892ms  2.6060us  299.67ms  cudaMallocHost\n",
            "                    0.24%  733.02us         3  244.34us  58.541us  582.26us  cudaMemcpy\n",
            "                    0.17%  500.14us         3  166.71us  2.8450us  487.15us  cudaFreeHost\n",
            "                    0.13%  390.83us         1  390.83us  390.83us  390.83us  cuDeviceTotalMem\n",
            "                    0.09%  265.71us         3  88.570us  2.4670us  258.93us  cudaMalloc\n",
            "                    0.06%  167.61us         3  55.869us  5.5150us  139.93us  cudaFree\n",
            "                    0.05%  144.98us       101  1.4350us     126ns  62.205us  cuDeviceGetAttribute\n",
            "                    0.01%  33.405us         1  33.405us  33.405us  33.405us  cudaLaunchKernel\n",
            "                    0.01%  27.611us         1  27.611us  27.611us  27.611us  cuDeviceGetName\n",
            "                    0.00%  5.9020us         1  5.9020us  5.9020us  5.9020us  cuDeviceGetPCIBusId\n",
            "                    0.00%  1.7080us         2     854ns     278ns  1.4300us  cuDeviceGet\n",
            "                    0.00%  1.3670us         3     455ns     196ns     791ns  cuDeviceGetCount\n",
            "                    0.00%     309ns         1     309ns     309ns     309ns  cuDeviceGetUuid\n",
            "Input matrix dim (256 x 512) (512 x 256) (256 x 256)\n",
            "==6018== NVPROF is profiling process 6018, command: ./lab4_ex3_pinned 256 512 256\n",
            "GEMM result is CORRECT\n",
            "==6018== Profiling application: ./lab4_ex3_pinned 256 512 256\n",
            "==6018== Profiling result:\n",
            "            Type  Time(%)      Time     Calls       Avg       Min       Max  Name\n",
            " GPU activities:   82.91%  1.0606ms         1  1.0606ms  1.0606ms  1.0606ms  gemm(double*, double*, double*, int, int, int, int)\n",
            "                   13.88%  177.53us         2  88.766us  87.454us  90.078us  [CUDA memcpy HtoD]\n",
            "                    3.21%  41.119us         1  41.119us  41.119us  41.119us  [CUDA memcpy DtoH]\n",
            "      API calls:   98.83%  297.73ms         3  99.245ms  5.1110us  296.70ms  cudaMallocHost\n",
            "                    0.45%  1.3591ms         3  453.04us  118.39us  1.1088ms  cudaMemcpy\n",
            "                    0.29%  879.58us         3  293.19us  8.3760us  487.58us  cudaFreeHost\n",
            "                    0.14%  412.68us         1  412.68us  412.68us  412.68us  cuDeviceTotalMem\n",
            "                    0.12%  363.74us         3  121.25us  4.3990us  264.91us  cudaMalloc\n",
            "                    0.10%  289.55us         3  96.516us  22.050us  135.66us  cudaFree\n",
            "                    0.05%  148.28us       101  1.4680us     144ns  63.952us  cuDeviceGetAttribute\n",
            "                    0.01%  31.203us         1  31.203us  31.203us  31.203us  cudaLaunchKernel\n",
            "                    0.01%  27.652us         1  27.652us  27.652us  27.652us  cuDeviceGetName\n",
            "                    0.00%  6.2130us         1  6.2130us  6.2130us  6.2130us  cuDeviceGetPCIBusId\n",
            "                    0.00%  1.6190us         3     539ns     267ns     888ns  cuDeviceGetCount\n",
            "                    0.00%  1.0740us         2     537ns     218ns     856ns  cuDeviceGet\n",
            "                    0.00%     291ns         1     291ns     291ns     291ns  cuDeviceGetUuid\n",
            "Input matrix dim (512 x 512) (512 x 512) (512 x 512)\n",
            "==6037== NVPROF is profiling process 6037, command: ./lab4_ex3_pinned 512 512 512\n",
            "GEMM result is CORRECT\n",
            "==6037== Profiling application: ./lab4_ex3_pinned 512 512 512\n",
            "==6037== Profiling result:\n",
            "            Type  Time(%)      Time     Calls       Avg       Min       Max  Name\n",
            " GPU activities:   87.79%  3.6549ms         1  3.6549ms  3.6549ms  3.6549ms  gemm(double*, double*, double*, int, int, int, int)\n",
            "                    8.35%  347.83us         2  173.92us  172.19us  175.64us  [CUDA memcpy HtoD]\n",
            "                    3.86%  160.67us         1  160.67us  160.67us  160.67us  [CUDA memcpy DtoH]\n",
            "      API calls:   97.49%  295.33ms         3  98.443ms  901.43us  293.51ms  cudaMallocHost\n",
            "                    1.39%  4.2188ms         3  1.4063ms  183.33us  3.8161ms  cudaMemcpy\n",
            "                    0.54%  1.6503ms         3  550.09us  424.13us  630.00us  cudaFreeHost\n",
            "                    0.18%  545.55us         1  545.55us  545.55us  545.55us  cuDeviceTotalMem\n",
            "                    0.15%  468.10us         3  156.03us  135.93us  183.81us  cudaFree\n",
            "                    0.14%  435.78us         3  145.26us  89.379us  253.75us  cudaMalloc\n",
            "                    0.06%  185.98us       101  1.8410us     212ns  77.092us  cuDeviceGetAttribute\n",
            "                    0.02%  45.999us         1  45.999us  45.999us  45.999us  cuDeviceGetName\n",
            "                    0.01%  38.019us         1  38.019us  38.019us  38.019us  cudaLaunchKernel\n",
            "                    0.00%  5.6140us         1  5.6140us  5.6140us  5.6140us  cuDeviceGetPCIBusId\n",
            "                    0.00%  1.6720us         3     557ns     235ns  1.1210us  cuDeviceGetCount\n",
            "                    0.00%  1.3530us         2     676ns     285ns  1.0680us  cuDeviceGet\n",
            "                    0.00%     348ns         1     348ns     348ns     348ns  cuDeviceGetUuid\n"
          ]
        }
      ]
    },
    {
      "cell_type": "code",
      "source": [
        "!nvprof ./lab4_ex3_baseline 1024 1024 1024\n",
        "!nvprof ./lab4_ex3_pinned 1024 1024 1024"
      ],
      "metadata": {
        "colab": {
          "base_uri": "https://localhost:8080/"
        },
        "id": "WwdqINHZVupq",
        "outputId": "0acb0ae8-31c9-4f76-8546-60e8bb43b0aa"
      },
      "execution_count": 7,
      "outputs": [
        {
          "output_type": "stream",
          "name": "stdout",
          "text": [
            "Input matrix dim (1024 x 1024) (1024 x 1024) (1024 x 1024)\n",
            "==10616== NVPROF is profiling process 10616, command: ./lab4_ex3_baseline 1024 1024 1024\n",
            "GEMM result is CORRECT\n",
            "==10616== Profiling application: ./lab4_ex3_baseline 1024 1024 1024\n",
            "==10616== Profiling result:\n",
            "            Type  Time(%)      Time     Calls       Avg       Min       Max  Name\n",
            " GPU activities:   82.30%  36.090ms         1  36.090ms  36.090ms  36.090ms  gemm(double*, double*, double*, int, int, int, int)\n",
            "                   10.38%  4.5515ms         1  4.5515ms  4.5515ms  4.5515ms  [CUDA memcpy DtoH]\n",
            "                    7.32%  3.2115ms         2  1.6058ms  1.6049ms  1.6066ms  [CUDA memcpy HtoD]\n",
            "      API calls:   86.22%  294.63ms         3  98.209ms  84.930us  294.45ms  cudaMalloc\n",
            "                   13.34%  45.573ms         3  15.191ms  1.7861ms  41.928ms  cudaMemcpy\n",
            "                    0.28%  943.07us         3  314.36us  148.47us  400.29us  cudaFree\n",
            "                    0.10%  341.25us         1  341.25us  341.25us  341.25us  cuDeviceTotalMem\n",
            "                    0.05%  167.76us       101  1.6610us     128ns  64.809us  cuDeviceGetAttribute\n",
            "                    0.01%  30.218us         1  30.218us  30.218us  30.218us  cudaLaunchKernel\n",
            "                    0.01%  28.410us         1  28.410us  28.410us  28.410us  cuDeviceGetName\n",
            "                    0.00%  6.1340us         1  6.1340us  6.1340us  6.1340us  cuDeviceGetPCIBusId\n",
            "                    0.00%  1.6770us         3     559ns     185ns  1.1310us  cuDeviceGetCount\n",
            "                    0.00%  1.1320us         2     566ns     210ns     922ns  cuDeviceGet\n",
            "                    0.00%     272ns         1     272ns     272ns     272ns  cuDeviceGetUuid\n",
            "Input matrix dim (1024 x 1024) (1024 x 1024) (1024 x 1024)\n",
            "==10681== NVPROF is profiling process 10681, command: ./lab4_ex3_pinned 1024 1024 1024\n",
            "GEMM result is CORRECT\n",
            "==10681== Profiling application: ./lab4_ex3_pinned 1024 1024 1024\n",
            "==10681== Profiling result:\n",
            "            Type  Time(%)      Time     Calls       Avg       Min       Max  Name\n",
            " GPU activities:   94.74%  36.086ms         1  36.086ms  36.086ms  36.086ms  gemm(double*, double*, double*, int, int, int, int)\n",
            "                    3.58%  1.3638ms         2  681.90us  680.69us  683.12us  [CUDA memcpy HtoD]\n",
            "                    1.67%  637.97us         1  637.97us  637.97us  637.97us  [CUDA memcpy DtoH]\n",
            "      API calls:   86.79%  291.48ms         3  97.159ms  3.4099ms  284.58ms  cudaMallocHost\n",
            "                   11.36%  38.160ms         3  12.720ms  694.46us  36.738ms  cudaMemcpy\n",
            "                    1.25%  4.1910ms         3  1.3970ms  1.2602ms  1.5698ms  cudaFreeHost\n",
            "                    0.30%  1.0013ms         3  333.78us  212.77us  401.45us  cudaFree\n",
            "                    0.13%  451.16us         3  150.39us  87.315us  269.21us  cudaMalloc\n",
            "                    0.10%  340.54us         1  340.54us  340.54us  340.54us  cuDeviceTotalMem\n",
            "                    0.04%  148.17us       101  1.4670us     134ns  61.012us  cuDeviceGetAttribute\n",
            "                    0.01%  30.793us         1  30.793us  30.793us  30.793us  cudaLaunchKernel\n",
            "                    0.01%  26.636us         1  26.636us  26.636us  26.636us  cuDeviceGetName\n",
            "                    0.00%  5.5250us         1  5.5250us  5.5250us  5.5250us  cuDeviceGetPCIBusId\n",
            "                    0.00%  1.5140us         3     504ns     211ns     990ns  cuDeviceGetCount\n",
            "                    0.00%  1.0500us         2     525ns     278ns     772ns  cuDeviceGet\n",
            "                    0.00%     263ns         1     263ns     263ns     263ns  cuDeviceGetUuid\n"
          ]
        }
      ]
    },
    {
      "cell_type": "code",
      "source": [
        "!nvcc lab4_ex3_unified.cu -o lab4_ex3_unified\n",
        "!nvprof ./lab4_ex3_unified 1024 1024 1024"
      ],
      "metadata": {
        "colab": {
          "base_uri": "https://localhost:8080/"
        },
        "id": "0-yJ4INRYKBB",
        "outputId": "a7854242-4b7f-42aa-8025-0fe1bb3fa71b"
      },
      "execution_count": 8,
      "outputs": [
        {
          "output_type": "stream",
          "name": "stdout",
          "text": [
            "Input matrix dim (1024 x 1024) (1024 x 1024) (1024 x 1024)\n",
            "==13269== NVPROF is profiling process 13269, command: ./lab4_ex3_unified 1024 1024 1024\n",
            "GEMM result is INCORRECT\n",
            "==13269== Profiling application: ./lab4_ex3_unified 1024 1024 1024\n",
            "==13269== Profiling result:\n",
            "            Type  Time(%)      Time     Calls       Avg       Min       Max  Name\n",
            " GPU activities:  100.00%  42.197ms         1  42.197ms  42.197ms  42.197ms  gemm(double*, double*, double*, int, int, int, int)\n",
            "      API calls:   87.35%  311.74ms         3  103.91ms  16.149us  311.67ms  cudaMallocManaged\n",
            "                   12.47%  44.489ms         3  14.830ms  344.63us  43.641ms  cudaFree\n",
            "                    0.10%  361.19us         1  361.19us  361.19us  361.19us  cuDeviceTotalMem\n",
            "                    0.04%  146.38us       101  1.4490us     125ns  60.463us  cuDeviceGetAttribute\n",
            "                    0.03%  95.195us         1  95.195us  95.195us  95.195us  cudaLaunchKernel\n",
            "                    0.01%  31.171us         1  31.171us  31.171us  31.171us  cuDeviceGetName\n",
            "                    0.00%  5.9530us         1  5.9530us  5.9530us  5.9530us  cuDeviceGetPCIBusId\n",
            "                    0.00%  1.1810us         3     393ns     198ns     684ns  cuDeviceGetCount\n",
            "                    0.00%  1.0390us         2     519ns     204ns     835ns  cuDeviceGet\n",
            "                    0.00%     290ns         1     290ns     290ns     290ns  cuDeviceGetUuid\n",
            "\n",
            "==13269== Unified Memory profiling result:\n",
            "Device \"Tesla T4 (0)\"\n",
            "   Count  Avg Size  Min Size  Max Size  Total Size  Total Time  Name\n",
            "     222  74.090KB  4.0000KB  0.9961MB  16.06250MB  1.934802ms  Host To Device\n",
            "      66         -         -         -           -  7.156793ms  Gpu page fault groups\n",
            "Total CPU Page faults: 49\n"
          ]
        }
      ]
    }
  ]
}