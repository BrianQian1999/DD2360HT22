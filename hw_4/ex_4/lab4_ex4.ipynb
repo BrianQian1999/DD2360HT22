{
  "nbformat": 4,
  "nbformat_minor": 0,
  "metadata": {
    "colab": {
      "provenance": [],
      "authorship_tag": "ABX9TyOVKBS/X4ym3nZMpKNAZ3J8",
      "include_colab_link": true
    },
    "kernelspec": {
      "name": "python3",
      "display_name": "Python 3"
    },
    "language_info": {
      "name": "python"
    },
    "accelerator": "GPU",
    "gpuClass": "standard"
  },
  "cells": [
    {
      "cell_type": "markdown",
      "metadata": {
        "id": "view-in-github",
        "colab_type": "text"
      },
      "source": [
        "<a href=\"https://colab.research.google.com/github/BrianQian1999/DD2360HT22/blob/main/hw_4/ex_4/lab4_ex4.ipynb\" target=\"_parent\"><img src=\"https://colab.research.google.com/assets/colab-badge.svg\" alt=\"Open In Colab\"/></a>"
      ]
    },
    {
      "cell_type": "code",
      "execution_count": 14,
      "metadata": {
        "id": "5R3aQ4JzU7VM"
      },
      "outputs": [],
      "source": [
        "!nvcc lab4_ex4.cu -lcusparse -lcublas -o lab4_ex4"
      ]
    },
    {
      "cell_type": "code",
      "source": [
        "!./lab4_ex4 32 1\n",
        "!./lab4_ex4 64 1\n",
        "!./lab4_ex4 128 1\n",
        "!./lab4_ex4 256 1"
      ],
      "metadata": {
        "colab": {
          "base_uri": "https://localhost:8080/"
        },
        "id": "o-gmhpQgVGGJ",
        "outputId": "51f2ee70-39d0-454e-dfbe-daf97cfb7c31"
      },
      "execution_count": 12,
      "outputs": [
        {
          "output_type": "stream",
          "name": "stdout",
          "text": [
            "The X dimension of the grid is 32 \n",
            "The number of time steps to perform is 1 \n",
            "Timing - Allocating device memory. \t\tElasped 140533 microseconds \n",
            "Timing - Prefetching GPU memory to the host. \t\tElasped 50 microseconds \n",
            "Timing - Initializing the sparse matrix on the host. \t\tElasped 1 microseconds \n",
            "Timing - Initializing memory on the host. \t\tElasped 0 microseconds \n",
            "Timing - Prefetching GPU memory to the device. \t\tElasped 264 microseconds \n",
            "Timing - compute SPMV for nsteps times:. \t\tElasped 33 microseconds \n",
            "The relative error of the approximation is 3.469692\n",
            "The X dimension of the grid is 64 \n",
            "The number of time steps to perform is 1 \n",
            "Timing - Allocating device memory. \t\tElasped 83311 microseconds \n",
            "Timing - Prefetching GPU memory to the host. \t\tElasped 41 microseconds \n",
            "Timing - Initializing the sparse matrix on the host. \t\tElasped 2 microseconds \n",
            "Timing - Initializing memory on the host. \t\tElasped 1 microseconds \n",
            "Timing - Prefetching GPU memory to the device. \t\tElasped 209 microseconds \n",
            "Timing - compute SPMV for nsteps times:. \t\tElasped 31 microseconds \n",
            "The relative error of the approximation is 5.047489\n",
            "The X dimension of the grid is 128 \n",
            "The number of time steps to perform is 1 \n",
            "Timing - Allocating device memory. \t\tElasped 78398 microseconds \n",
            "Timing - Prefetching GPU memory to the host. \t\tElasped 43 microseconds \n",
            "Timing - Initializing the sparse matrix on the host. \t\tElasped 3 microseconds \n",
            "Timing - Initializing memory on the host. \t\tElasped 0 microseconds \n",
            "Timing - Prefetching GPU memory to the device. \t\tElasped 298 microseconds \n",
            "Timing - compute SPMV for nsteps times:. \t\tElasped 57 microseconds \n",
            "The relative error of the approximation is 7.235710\n",
            "The X dimension of the grid is 256 \n",
            "The number of time steps to perform is 1 \n",
            "Timing - Allocating device memory. \t\tElasped 79797 microseconds \n",
            "Timing - Prefetching GPU memory to the host. \t\tElasped 46 microseconds \n",
            "Timing - Initializing the sparse matrix on the host. \t\tElasped 5 microseconds \n",
            "Timing - Initializing memory on the host. \t\tElasped 28 microseconds \n",
            "Timing - Prefetching GPU memory to the device. \t\tElasped 314 microseconds \n",
            "Timing - compute SPMV for nsteps times:. \t\tElasped 31 microseconds \n",
            "The relative error of the approximation is 10.301116\n"
          ]
        }
      ]
    },
    {
      "cell_type": "code",
      "source": [
        "!bash ./run.sh"
      ],
      "metadata": {
        "id": "xW060Q7TctPm"
      },
      "execution_count": 29,
      "outputs": []
    },
    {
      "cell_type": "code",
      "source": [
        "!cat lab4_ex4_rep | grep approximation > lab4_ex4_rep2"
      ],
      "metadata": {
        "id": "E3SymrsXjrMI"
      },
      "execution_count": 32,
      "outputs": []
    },
    {
      "cell_type": "code",
      "source": [
        "!cat lab4_ex4_rep | grep approximation | grep -o '[0-9]\\.[0-9]\\+' > rep3"
      ],
      "metadata": {
        "id": "xXrUxx_8etPY"
      },
      "execution_count": 35,
      "outputs": []
    },
    {
      "cell_type": "code",
      "source": [
        "!nvcc lab4_ex4_nonprefetch.cu -lcusparse -lcublas -o lab4_ex4_nonprefetch\n",
        "!nvprof ./lab4_ex4_nonprefetch 128 100\n",
        "!nvprof ./lab4_ex4 128 100"
      ],
      "metadata": {
        "colab": {
          "base_uri": "https://localhost:8080/"
        },
        "id": "8RW6LFSphrsg",
        "outputId": "5753d86b-e865-4dde-8853-10e89fee6c92"
      },
      "execution_count": 37,
      "outputs": [
        {
          "output_type": "stream",
          "name": "stdout",
          "text": [
            "The X dimension of the grid is 128 \n",
            "The number of time steps to perform is 100 \n",
            "==20227== NVPROF is profiling process 20227, command: ./lab4_ex4_nonprefetch 128 100\n",
            "Timing - Allocating device memory. \t\tElasped 274119 microseconds \n",
            "Timing - Prefetching GPU memory to the host. \t\tElasped 0 microseconds \n",
            "Timing - Initializing the sparse matrix on the host. \t\tElasped 78 microseconds \n",
            "Timing - Initializing memory on the host. \t\tElasped 0 microseconds \n",
            "Timing - Prefetching GPU memory to the device. \t\tElasped 0 microseconds \n",
            "The relative error of the approximation is 3.318021\n",
            "==20227== Profiling application: ./lab4_ex4_nonprefetch 128 100\n",
            "==20227== Profiling result:\n",
            "            Type  Time(%)      Time     Calls       Avg       Min       Max  Name\n",
            " GPU activities:   72.85%  9.7361ms       204  47.725us  43.807us  52.798us  void nrm2_kernel<double, double, double, int=0, int=0, int=128>(cublasNrm2Params<double, double>)\n",
            "                   12.14%  1.6226ms       100  16.225us  16.095us  16.735us  _ZN8cusparse21load_balancing_kernelILj512ELj4ELm16384EiiNS_7CsrmvOpILi512EdLb0EEEJKiKdS4_didEEEvPKT3_T2_S5_S5_iPKS8_T4_DpPT5_\n",
            "                    8.93%  1.1929ms       100  11.929us  6.7840us  514.58us  _ZN8cusparse30binary_search_partition_kernelILi128ELi2048EiiNS_6ScaleYINS_20MatrixWiseMulPolicy1ILb0EdEEidEEJdEEEvPKT2_T1_S5_iPS8_T3_DpPT4_\n",
            "                    3.70%  493.85us       101  4.8890us  4.7040us  9.8230us  void axpy_kernel_val<double, double>(cublasAxpyParamsVal<double, double, double>)\n",
            "                    1.24%  165.66us       102  1.6240us  1.5990us  2.0800us  [CUDA memcpy DtoH]\n",
            "                    1.11%  148.19us       102  1.4520us  1.4080us  1.9200us  [CUDA memcpy HtoD]\n",
            "                    0.03%  4.4160us         1  4.4160us  4.4160us  4.4160us  void thrust::cuda_cub::core::_kernel_agent<thrust::cuda_cub::__parallel_for::ParallelForAgent<thrust::cuda_cub::__tabulate::functor<thrust::device_ptr<double>, thrust::detail::functional::actor<thrust::detail::functional::composite<thrust::detail::functional::transparent_binary_operator<thrust::plus<void>>, thrust::detail::functional::value<double>, thrust::detail::functional::actor<thrust::detail::functional::composite<thrust::detail::functional::transparent_binary_operator<thrust::multiplies<void>>, thrust::detail::functional::value<double>, thrust::detail::functional::actor<thrust::detail::functional::argument<unsigned int=0>>, thrust::null_type, thrust::null_type, thrust::null_type, thrust::null_type, thrust::null_type, thrust::null_type, thrust::null_type, thrust::null_type>>, thrust::null_type, thrust::null_type, thrust::null_type, thrust::null_type, thrust::null_type, thrust::null_type, thrust::null_type, thrust::null_type>>, long>, long>, thrust::cuda_cub::__tabulate::functor<thrust::device_ptr<double>, thrust::detail::functional::actor<thrust::detail::functional::composite<thrust::detail::functional::transparent_binary_operator<thrust::plus<void>>, thrust::detail::functional::value<double>, thrust::detail::functional::actor<thrust::detail::functional::composite<thrust::detail::functional::transparent_binary_operator<thrust::multiplies<void>>, thrust::detail::functional::value<double>, thrust::detail::functional::actor<thrust::detail::functional::argument<unsigned int=0>>, thrust::null_type, thrust::null_type, thrust::null_type, thrust::null_type, thrust::null_type, thrust::null_type, thrust::null_type, thrust::null_type>>, thrust::null_type, thrust::null_type, thrust::null_type, thrust::null_type, thrust::null_type, thrust::null_type, thrust::null_type, thrust::null_type>>, long>, long>(thrust::device_ptr<double>, void)\n",
            "      API calls:   77.79%  1.02593s        12  85.494ms  5.1110us  450.76ms  cudaFree\n",
            "                   20.79%  274.11ms         5  54.823ms  4.1220us  274.07ms  cudaMallocManaged\n",
            "                    0.96%  12.726ms       204  62.381us  2.9330us  573.94us  cudaMemcpyAsync\n",
            "                    0.17%  2.2935ms       506  4.5320us  3.4230us  32.629us  cudaLaunchKernel\n",
            "                    0.11%  1.5008ms         4  375.21us  347.58us  406.58us  cuDeviceTotalMem\n",
            "                    0.05%  655.37us       395  1.6590us     127ns  89.541us  cuDeviceGetAttribute\n",
            "                    0.02%  287.21us         4  71.803us  4.0410us  162.85us  cudaMalloc\n",
            "                    0.02%  229.59us       103  2.2280us  1.9420us  8.7220us  cudaFuncGetAttributes\n",
            "                    0.01%  192.83us       103  1.8720us  1.5620us  12.846us  cudaStreamSynchronize\n",
            "                    0.01%  153.63us         1  153.63us  153.63us  153.63us  cudaGetDeviceProperties\n",
            "                    0.01%  153.49us       102  1.5040us  1.3840us  4.0500us  cudaEventQuery\n",
            "                    0.01%  142.25us         4  35.563us  19.610us  57.855us  cuDeviceGetName\n",
            "                    0.01%  128.92us       621     207ns     114ns  1.0430us  cudaGetLastError\n",
            "                    0.01%  112.37us       306     367ns     303ns  1.6220us  cudaStreamGetCaptureInfo\n",
            "                    0.01%  75.209us       102     737ns     636ns  2.6230us  cudaEventRecord\n",
            "                    0.00%  23.666us        18  1.3140us     363ns  9.9510us  cudaEventCreateWithFlags\n",
            "                    0.00%  11.929us        18     662ns     325ns  2.3870us  cudaEventDestroy\n",
            "                    0.00%  10.908us         7  1.5580us     294ns  4.2780us  cudaGetDevice\n",
            "                    0.00%  9.2080us         4  2.3020us     886ns  4.6150us  cudaDeviceSynchronize\n",
            "                    0.00%  7.2210us        14     515ns     280ns  1.5650us  cudaDeviceGetAttribute\n",
            "                    0.00%  6.4420us         3  2.1470us  1.8450us  2.6860us  cuInit\n",
            "                    0.00%  5.9060us         1  5.9060us  5.9060us  5.9060us  cuDeviceGetPCIBusId\n",
            "                    0.00%  2.8950us         6     482ns     218ns  1.2210us  cuDeviceGetCount\n",
            "                    0.00%  2.3800us         5     476ns     238ns  1.0520us  cuDeviceGet\n",
            "                    0.00%  1.4050us         3     468ns     304ns     621ns  cuDriverGetVersion\n",
            "                    0.00%  1.0690us         1  1.0690us  1.0690us  1.0690us  cudaGetSymbolAddress\n",
            "                    0.00%  1.0120us         4     253ns     229ns     282ns  cuDeviceGetUuid\n",
            "                    0.00%     372ns         2     186ns     130ns     242ns  cudaPeekAtLastError\n",
            "                    0.00%     258ns         1     258ns     258ns     258ns  cudaGetDeviceCount\n",
            "\n",
            "==20227== Unified Memory profiling result:\n",
            "Device \"Tesla T4 (0)\"\n",
            "   Count  Avg Size  Min Size  Max Size  Total Size  Total Time  Name\n",
            "       2  32.000KB  8.0000KB  56.000KB  64.00000KB  11.58400us  Host To Device\n",
            "       1         -         -         -           -  505.5570us  Gpu page fault groups\n",
            "Total CPU Page faults: 1\n",
            "The X dimension of the grid is 128 \n",
            "The number of time steps to perform is 100 \n",
            "==20246== NVPROF is profiling process 20246, command: ./lab4_ex4 128 100\n",
            "Timing - Allocating device memory. \t\tElasped 225981 microseconds \n",
            "Timing - Prefetching GPU memory to the host. \t\tElasped 78 microseconds \n",
            "Timing - Initializing the sparse matrix on the host. \t\tElasped 3 microseconds \n",
            "Timing - Initializing memory on the host. \t\tElasped 1 microseconds \n",
            "Timing - Prefetching GPU memory to the device. \t\tElasped 206 microseconds \n",
            "The relative error of the approximation is 3.318021\n",
            "==20246== Profiling application: ./lab4_ex4 128 100\n",
            "==20246== Profiling result:\n",
            "            Type  Time(%)      Time     Calls       Avg       Min       Max  Name\n",
            " GPU activities:   75.73%  9.7316ms       204  47.704us  43.807us  52.734us  void nrm2_kernel<double, double, double, int=0, int=0, int=128>(cublasNrm2Params<double, double>)\n",
            "                   12.59%  1.6181ms       100  16.180us  16.031us  20.224us  _ZN8cusparse21load_balancing_kernelILj512ELj4ELm16384EiiNS_7CsrmvOpILi512EdLb0EEEJKiKdS4_didEEEvPKT3_T2_S5_S5_iPKS8_T4_DpPT5_\n",
            "                    5.35%  688.08us       100  6.8800us  6.7830us  10.048us  _ZN8cusparse30binary_search_partition_kernelILi128ELi2048EiiNS_6ScaleYINS_20MatrixWiseMulPolicy1ILb0EdEEidEEJdEEEvPKT2_T1_S5_iPS8_T3_DpPT4_\n",
            "                    3.85%  494.52us       101  4.8960us  4.7040us  8.4480us  void axpy_kernel_val<double, double>(cublasAxpyParamsVal<double, double, double>)\n",
            "                    1.28%  165.12us       102  1.6180us  1.5680us  2.1440us  [CUDA memcpy DtoH]\n",
            "                    1.16%  149.05us       102  1.4610us  1.4070us  2.2080us  [CUDA memcpy HtoD]\n",
            "                    0.03%  4.4470us         1  4.4470us  4.4470us  4.4470us  void thrust::cuda_cub::core::_kernel_agent<thrust::cuda_cub::__parallel_for::ParallelForAgent<thrust::cuda_cub::__tabulate::functor<thrust::device_ptr<double>, thrust::detail::functional::actor<thrust::detail::functional::composite<thrust::detail::functional::transparent_binary_operator<thrust::plus<void>>, thrust::detail::functional::value<double>, thrust::detail::functional::actor<thrust::detail::functional::composite<thrust::detail::functional::transparent_binary_operator<thrust::multiplies<void>>, thrust::detail::functional::value<double>, thrust::detail::functional::actor<thrust::detail::functional::argument<unsigned int=0>>, thrust::null_type, thrust::null_type, thrust::null_type, thrust::null_type, thrust::null_type, thrust::null_type, thrust::null_type, thrust::null_type>>, thrust::null_type, thrust::null_type, thrust::null_type, thrust::null_type, thrust::null_type, thrust::null_type, thrust::null_type, thrust::null_type>>, long>, long>, thrust::cuda_cub::__tabulate::functor<thrust::device_ptr<double>, thrust::detail::functional::actor<thrust::detail::functional::composite<thrust::detail::functional::transparent_binary_operator<thrust::plus<void>>, thrust::detail::functional::value<double>, thrust::detail::functional::actor<thrust::detail::functional::composite<thrust::detail::functional::transparent_binary_operator<thrust::multiplies<void>>, thrust::detail::functional::value<double>, thrust::detail::functional::actor<thrust::detail::functional::argument<unsigned int=0>>, thrust::null_type, thrust::null_type, thrust::null_type, thrust::null_type, thrust::null_type, thrust::null_type, thrust::null_type, thrust::null_type>>, thrust::null_type, thrust::null_type, thrust::null_type, thrust::null_type, thrust::null_type, thrust::null_type, thrust::null_type, thrust::null_type>>, long>, long>(thrust::device_ptr<double>, void)\n",
            "      API calls:   81.03%  1.04459s        12  87.049ms  3.8750us  445.01ms  cudaFree\n",
            "                   17.53%  225.98ms         5  45.195ms  3.9760us  225.94ms  cudaMallocManaged\n",
            "                    0.94%  12.127ms       204  59.445us  3.2840us  127.79us  cudaMemcpyAsync\n",
            "                    0.19%  2.3977ms       506  4.7380us  3.5400us  26.863us  cudaLaunchKernel\n",
            "                    0.12%  1.5123ms         4  378.07us  358.03us  397.34us  cuDeviceTotalMem\n",
            "                    0.05%  616.05us       395  1.5590us     130ns  67.658us  cuDeviceGetAttribute\n",
            "                    0.02%  274.29us         6  45.715us  2.8380us  195.31us  cudaMemPrefetchAsync\n",
            "                    0.02%  265.24us       103  2.5750us  2.0610us  21.260us  cudaFuncGetAttributes\n",
            "                    0.02%  263.29us         4  65.823us  4.0150us  152.27us  cudaMalloc\n",
            "                    0.01%  191.47us       103  1.8580us  1.5790us  8.1010us  cudaStreamSynchronize\n",
            "                    0.01%  165.93us       102  1.6260us  1.4460us  3.9330us  cudaEventQuery\n",
            "                    0.01%  148.88us         1  148.88us  148.88us  148.88us  cudaGetDeviceProperties\n",
            "                    0.01%  122.89us       306     401ns     319ns  1.7680us  cudaStreamGetCaptureInfo\n",
            "                    0.01%  122.88us       621     197ns     133ns  1.1610us  cudaGetLastError\n",
            "                    0.01%  120.77us         4  30.193us  17.214us  39.283us  cuDeviceGetName\n",
            "                    0.01%  85.862us       102     841ns     738ns  1.8850us  cudaEventRecord\n",
            "                    0.00%  23.502us        18  1.3050us     366ns  8.5820us  cudaEventCreateWithFlags\n",
            "                    0.00%  15.817us         4  3.9540us  1.0610us  9.8220us  cudaDeviceSynchronize\n",
            "                    0.00%  12.567us         7  1.7950us     320ns  6.2910us  cudaGetDevice\n",
            "                    0.00%  11.515us        18     639ns     373ns  1.8240us  cudaEventDestroy\n",
            "                    0.00%  7.6400us        14     545ns     274ns  1.5920us  cudaDeviceGetAttribute\n",
            "                    0.00%  7.0810us         3  2.3600us  2.0330us  2.9150us  cuInit\n",
            "                    0.00%  6.2130us         1  6.2130us  6.2130us  6.2130us  cuDeviceGetPCIBusId\n",
            "                    0.00%  3.5970us         6     599ns     253ns  2.0250us  cuDeviceGetCount\n",
            "                    0.00%  2.3980us         5     479ns     296ns  1.0400us  cuDeviceGet\n",
            "                    0.00%  1.4470us         1  1.4470us  1.4470us  1.4470us  cudaGetSymbolAddress\n",
            "                    0.00%  1.1210us         3     373ns     281ns     483ns  cuDriverGetVersion\n",
            "                    0.00%  1.0380us         4     259ns     221ns     316ns  cuDeviceGetUuid\n",
            "                    0.00%     380ns         2     190ns     141ns     239ns  cudaPeekAtLastError\n",
            "                    0.00%     280ns         1     280ns     280ns     280ns  cudaGetDeviceCount\n",
            "\n",
            "==20246== Unified Memory profiling result:\n",
            "Device \"Tesla T4 (0)\"\n",
            "   Count  Avg Size  Min Size  Max Size  Total Size  Total Time  Name\n",
            "       1  8.0000KB  8.0000KB  8.0000KB  8.000000KB  4.032000us  Host To Device\n"
          ]
        }
      ]
    },
    {
      "cell_type": "code",
      "source": [],
      "metadata": {
        "id": "VrLCjvobmXY6"
      },
      "execution_count": null,
      "outputs": []
    }
  ]
}