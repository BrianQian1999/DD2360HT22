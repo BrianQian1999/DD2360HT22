{
  "nbformat": 4,
  "nbformat_minor": 0,
  "metadata": {
    "colab": {
      "provenance": [],
      "authorship_tag": "ABX9TyMzvkn8N/5EC9lGF/yn4w61",
      "include_colab_link": true
    },
    "kernelspec": {
      "name": "python3",
      "display_name": "Python 3"
    },
    "language_info": {
      "name": "python"
    },
    "accelerator": "GPU",
    "gpuClass": "standard"
  },
  "cells": [
    {
      "cell_type": "markdown",
      "metadata": {
        "id": "view-in-github",
        "colab_type": "text"
      },
      "source": [
        "<a href=\"https://colab.research.google.com/github/BrianQian1999/DD2360HT22/blob/main/hw_3/ex_2/lab3_ex2.ipynb\" target=\"_parent\"><img src=\"https://colab.research.google.com/assets/colab-badge.svg\" alt=\"Open In Colab\"/></a>"
      ]
    },
    {
      "cell_type": "code",
      "execution_count": 8,
      "metadata": {
        "id": "wGIocfKtZZoC"
      },
      "outputs": [],
      "source": [
        "!nvcc lab3_ex2.cu -o lab3_ex2"
      ]
    },
    {
      "cell_type": "code",
      "source": [
        "!/usr/local/cuda-11/bin/nv-nsight-cu-cli ./lab3_ex2 511 1023 4094"
      ],
      "metadata": {
        "colab": {
          "base_uri": "https://localhost:8080/"
        },
        "id": "X_yJndx_aOO6",
        "outputId": "66d88d77-5f37-417a-a20a-f77b84c3cb85"
      },
      "execution_count": 7,
      "outputs": [
        {
          "output_type": "stream",
          "name": "stdout",
          "text": [
            "Input matrix dim (511 x 1023) (1023 x 4094) (511 x 4094)\n",
            "==PROF== Connected to process 266 (/content/lab3_ex2)\n",
            "==PROF== Profiling \"gemm\" - 1: 0%....50%....100% - 8 passes\n",
            "GEMM result is CORRECT\n",
            "==PROF== Disconnected from process 266\n",
            "[266] lab3_ex2@127.0.0.1\n",
            "  gemm(double*, double*, double*, int, int, int, int), 2022-Dec-14 07:23:59, Context 1, Stream 7\n",
            "    Section: GPU Speed Of Light\n",
            "    ---------------------------------------------------------------------- --------------- ------------------------------\n",
            "    DRAM Frequency                                                           cycle/nsecond                           5.00\n",
            "    SM Frequency                                                             cycle/usecond                         584.94\n",
            "    Elapsed Cycles                                                                   cycle                     43,131,314\n",
            "    Memory [%]                                                                           %                          53.54\n",
            "    SOL DRAM                                                                             %                          21.01\n",
            "    Duration                                                                       msecond                          73.74\n",
            "    SOL L1/TEX Cache                                                                     %                          76.59\n",
            "    SOL L2 Cache                                                                         %                          53.54\n",
            "    SM Active Cycles                                                                 cycle                  43,041,545.75\n",
            "    SM [%]                                                                               %                          62.03\n",
            "    ---------------------------------------------------------------------- --------------- ------------------------------\n",
            "    OK    Compute and Memory are well-balanced: To reduce runtime, both computation and memory traffic must be reduced. \n",
            "          Check both the Compute Workload Analysis and Memory Workload Analysis report sections.                        \n",
            "\n",
            "    Section: Launch Statistics\n",
            "    ---------------------------------------------------------------------- --------------- ------------------------------\n",
            "    Block Size                                                                                                         32\n",
            "    Function Cache Configuration                                                                  cudaFuncCachePreferNone\n",
            "    Grid Size                                                                                                      65,377\n",
            "    Registers Per Thread                                                   register/thread                             28\n",
            "    Shared Memory Configuration Size                                                 Kbyte                          32.77\n",
            "    Driver Shared Memory Per Block                                              byte/block                              0\n",
            "    Dynamic Shared Memory Per Block                                             byte/block                              0\n",
            "    Static Shared Memory Per Block                                              byte/block                              0\n",
            "    Threads                                                                         thread                      2,092,064\n",
            "    Waves Per SM                                                                                                   102.15\n",
            "    ---------------------------------------------------------------------- --------------- ------------------------------\n",
            "\n",
            "    Section: Occupancy\n",
            "    ---------------------------------------------------------------------- --------------- ------------------------------\n",
            "    Block Limit SM                                                                   block                             16\n",
            "    Block Limit Registers                                                            block                             64\n",
            "    Block Limit Shared Mem                                                           block                             16\n",
            "    Block Limit Warps                                                                block                             32\n",
            "    Theoretical Active Warps per SM                                                   warp                             16\n",
            "    Theoretical Occupancy                                                                %                             50\n",
            "    Achieved Occupancy                                                                   %                          49.66\n",
            "    Achieved Active Warps Per SM                                                      warp                          15.89\n",
            "    ---------------------------------------------------------------------- --------------- ------------------------------\n",
            "\n"
          ]
        }
      ]
    },
    {
      "cell_type": "code",
      "source": [
        "!nvprof ./lab3_ex2 128 512 128"
      ],
      "metadata": {
        "colab": {
          "base_uri": "https://localhost:8080/"
        },
        "id": "gzMB4VWTf-fa",
        "outputId": "4f7014b4-3d26-4b99-b133-238f092bb311"
      },
      "execution_count": 9,
      "outputs": [
        {
          "output_type": "stream",
          "name": "stdout",
          "text": [
            "Input matrix dim (128 x 512) (512 x 128) (128 x 128)\n",
            "==327== NVPROF is profiling process 327, command: ./lab3_ex2 128 512 128\n",
            "GEMM result is CORRECT\n",
            "==327== Profiling application: ./lab3_ex2 128 512 128\n",
            "==327== Profiling result:\n",
            "            Type  Time(%)      Time     Calls       Avg       Min       Max  Name\n",
            " GPU activities:   71.92%  264.48us         1  264.48us  264.48us  264.48us  gemm(double*, double*, double*, int, int, int, int)\n",
            "                   24.77%  91.102us         2  45.551us  45.279us  45.823us  [CUDA memcpy HtoD]\n",
            "                    3.31%  12.159us         1  12.159us  12.159us  12.159us  [CUDA memcpy DtoH]\n",
            "      API calls:   99.53%  294.30ms         3  98.099ms  2.4800us  294.29ms  cudaMalloc\n",
            "                    0.23%  689.01us         3  229.67us  131.94us  393.08us  cudaMemcpy\n",
            "                    0.12%  348.65us         1  348.65us  348.65us  348.65us  cuDeviceTotalMem\n",
            "                    0.05%  150.84us       101  1.4930us     130ns  60.770us  cuDeviceGetAttribute\n",
            "                    0.04%  124.34us         3  41.448us  3.5820us  108.86us  cudaFree\n",
            "                    0.01%  28.892us         1  28.892us  28.892us  28.892us  cudaLaunchKernel\n",
            "                    0.01%  28.313us         1  28.313us  28.313us  28.313us  cuDeviceGetName\n",
            "                    0.00%  6.4340us         1  6.4340us  6.4340us  6.4340us  cuDeviceGetPCIBusId\n",
            "                    0.00%  1.4980us         2     749ns     354ns  1.1440us  cuDeviceGet\n",
            "                    0.00%  1.4280us         3     476ns     186ns     905ns  cuDeviceGetCount\n",
            "                    0.00%     327ns         1     327ns     327ns     327ns  cuDeviceGetUuid\n"
          ]
        }
      ]
    },
    {
      "cell_type": "code",
      "source": [
        "!nvprof ./lab3_ex2 256 512 256"
      ],
      "metadata": {
        "colab": {
          "base_uri": "https://localhost:8080/"
        },
        "id": "f1mI_Ne0lDGj",
        "outputId": "c6b8c2bb-deaf-4521-f766-3d0feda05491"
      },
      "execution_count": 10,
      "outputs": [
        {
          "output_type": "stream",
          "name": "stdout",
          "text": [
            "Input matrix dim (256 x 512) (512 x 256) (256 x 256)\n",
            "==360== NVPROF is profiling process 360, command: ./lab3_ex2 256 512 256\n",
            "GEMM result is CORRECT\n",
            "==360== Profiling application: ./lab3_ex2 256 512 256\n",
            "==360== Profiling result:\n",
            "            Type  Time(%)      Time     Calls       Avg       Min       Max  Name\n",
            " GPU activities:   83.08%  1.0675ms         1  1.0675ms  1.0675ms  1.0675ms  gemm(double*, double*, double*, int, int, int, int)\n",
            "                   13.65%  175.39us         2  87.694us  87.454us  87.935us  [CUDA memcpy HtoD]\n",
            "                    3.26%  41.951us         1  41.951us  41.951us  41.951us  [CUDA memcpy DtoH]\n",
            "      API calls:   98.98%  288.53ms         3  96.178ms  4.2100us  288.44ms  cudaMalloc\n",
            "                    0.72%  2.0931ms         3  697.69us  254.61us  1.5150ms  cudaMemcpy\n",
            "                    0.14%  415.37us         1  415.37us  415.37us  415.37us  cuDeviceTotalMem\n",
            "                    0.08%  246.07us         3  82.024us  16.527us  120.83us  cudaFree\n",
            "                    0.06%  163.81us       101  1.6210us     128ns  64.076us  cuDeviceGetAttribute\n",
            "                    0.01%  29.841us         1  29.841us  29.841us  29.841us  cudaLaunchKernel\n",
            "                    0.01%  27.740us         1  27.740us  27.740us  27.740us  cuDeviceGetName\n",
            "                    0.00%  5.2190us         1  5.2190us  5.2190us  5.2190us  cuDeviceGetPCIBusId\n",
            "                    0.00%  1.5310us         3     510ns     205ns     948ns  cuDeviceGetCount\n",
            "                    0.00%  1.1630us         2     581ns     295ns     868ns  cuDeviceGet\n",
            "                    0.00%     257ns         1     257ns     257ns     257ns  cuDeviceGetUuid\n"
          ]
        }
      ]
    },
    {
      "cell_type": "code",
      "source": [
        "!nvprof ./lab3_ex2 512 512 512"
      ],
      "metadata": {
        "colab": {
          "base_uri": "https://localhost:8080/"
        },
        "id": "MBdcJ55alfEK",
        "outputId": "3b31bec6-308a-46d1-e6f8-d07160906073"
      },
      "execution_count": 11,
      "outputs": [
        {
          "output_type": "stream",
          "name": "stdout",
          "text": [
            "Input matrix dim (512 x 512) (512 x 512) (512 x 512)\n",
            "==381== NVPROF is profiling process 381, command: ./lab3_ex2 512 512 512\n",
            "GEMM result is CORRECT\n",
            "==381== Profiling application: ./lab3_ex2 512 512 512\n",
            "==381== Profiling result:\n",
            "            Type  Time(%)      Time     Calls       Avg       Min       Max  Name\n",
            " GPU activities:   82.34%  3.6520ms         1  3.6520ms  3.6520ms  3.6520ms  gemm(double*, double*, double*, int, int, int, int)\n",
            "                   13.96%  618.96us         2  309.48us  303.90us  315.07us  [CUDA memcpy HtoD]\n",
            "                    3.71%  164.48us         1  164.48us  164.48us  164.48us  [CUDA memcpy DtoH]\n",
            "      API calls:   97.66%  299.52ms         3  99.840ms  81.774us  299.36ms  cudaMalloc\n",
            "                    2.02%  6.1980ms         3  2.0660ms  510.10us  5.1664ms  cudaMemcpy\n",
            "                    0.13%  385.15us         3  128.38us  119.83us  134.41us  cudaFree\n",
            "                    0.12%  363.46us         1  363.46us  363.46us  363.46us  cuDeviceTotalMem\n",
            "                    0.05%  151.65us       101  1.5010us     139ns  62.628us  cuDeviceGetAttribute\n",
            "                    0.01%  38.277us         1  38.277us  38.277us  38.277us  cuDeviceGetName\n",
            "                    0.01%  34.593us         1  34.593us  34.593us  34.593us  cudaLaunchKernel\n",
            "                    0.00%  5.3900us         1  5.3900us  5.3900us  5.3900us  cuDeviceGetPCIBusId\n",
            "                    0.00%  1.5140us         3     504ns     177ns     949ns  cuDeviceGetCount\n",
            "                    0.00%  1.3030us         2     651ns     305ns     998ns  cuDeviceGet\n",
            "                    0.00%     270ns         1     270ns     270ns     270ns  cuDeviceGetUuid\n"
          ]
        }
      ]
    },
    {
      "cell_type": "code",
      "source": [
        "!nvprof ./lab3_ex2 768 512 768"
      ],
      "metadata": {
        "colab": {
          "base_uri": "https://localhost:8080/"
        },
        "id": "rNH4Yv_0mGiQ",
        "outputId": "acf67ae4-a1d7-47c3-8282-fd80084ed57c"
      },
      "execution_count": 13,
      "outputs": [
        {
          "output_type": "stream",
          "name": "stdout",
          "text": [
            "Input matrix dim (768 x 512) (512 x 768) (768 x 768)\n",
            "==433== NVPROF is profiling process 433, command: ./lab3_ex2 768 512 768\n",
            "GEMM result is CORRECT\n",
            "==433== Profiling application: ./lab3_ex2 768 512 768\n",
            "==433== Profiling result:\n",
            "            Type  Time(%)      Time     Calls       Avg       Min       Max  Name\n",
            " GPU activities:   72.11%  8.2698ms         1  8.2698ms  8.2698ms  8.2698ms  gemm(double*, double*, double*, int, int, int, int)\n",
            "                   18.60%  2.1332ms         1  2.1332ms  2.1332ms  2.1332ms  [CUDA memcpy DtoH]\n",
            "                    9.29%  1.0657ms         2  532.87us  515.03us  550.71us  [CUDA memcpy HtoD]\n",
            "      API calls:   95.49%  299.65ms         3  99.884ms  83.018us  299.48ms  cudaMalloc\n",
            "                    4.12%  12.915ms         3  4.3050ms  712.64us  11.471ms  cudaMemcpy\n",
            "                    0.18%  574.57us         3  191.52us  153.24us  210.67us  cudaFree\n",
            "                    0.14%  436.97us         1  436.97us  436.97us  436.97us  cuDeviceTotalMem\n",
            "                    0.05%  155.23us       101  1.5360us     148ns  64.877us  cuDeviceGetAttribute\n",
            "                    0.01%  35.775us         1  35.775us  35.775us  35.775us  cudaLaunchKernel\n",
            "                    0.01%  31.255us         1  31.255us  31.255us  31.255us  cuDeviceGetName\n",
            "                    0.00%  7.6450us         1  7.6450us  7.6450us  7.6450us  cuDeviceGetPCIBusId\n",
            "                    0.00%  1.8670us         3     622ns     250ns  1.2460us  cuDeviceGetCount\n",
            "                    0.00%  1.5390us         2     769ns     520ns  1.0190us  cuDeviceGet\n",
            "                    0.00%     302ns         1     302ns     302ns     302ns  cuDeviceGetUuid\n"
          ]
        }
      ]
    },
    {
      "cell_type": "code",
      "source": [
        "!nvprof ./lab3_ex2 1024 512 1024"
      ],
      "metadata": {
        "colab": {
          "base_uri": "https://localhost:8080/"
        },
        "id": "-z4y12JIl079",
        "outputId": "a7837884-cf65-4e4b-81ff-00e34d1d7093"
      },
      "execution_count": 12,
      "outputs": [
        {
          "output_type": "stream",
          "name": "stdout",
          "text": [
            "Input matrix dim (1024 x 512) (512 x 1024) (1024 x 1024)\n",
            "==400== NVPROF is profiling process 400, command: ./lab3_ex2 1024 512 1024\n",
            "GEMM result is CORRECT\n",
            "==400== Profiling application: ./lab3_ex2 1024 512 1024\n",
            "==400== Profiling result:\n",
            "            Type  Time(%)      Time     Calls       Avg       Min       Max  Name\n",
            " GPU activities:   75.04%  17.930ms         1  17.930ms  17.930ms  17.930ms  gemm(double*, double*, double*, int, int, int, int)\n",
            "                   18.54%  4.4296ms         1  4.4296ms  4.4296ms  4.4296ms  [CUDA memcpy DtoH]\n",
            "                    6.43%  1.5356ms         2  767.79us  757.87us  777.71us  [CUDA memcpy HtoD]\n",
            "      API calls:   91.61%  292.56ms         3  97.519ms  84.710us  292.39ms  cudaMalloc\n",
            "                    8.02%  25.610ms         3  8.5367ms  932.77us  23.698ms  cudaMemcpy\n",
            "                    0.18%  566.67us         3  188.89us  144.46us  213.22us  cudaFree\n",
            "                    0.12%  381.57us         1  381.57us  381.57us  381.57us  cuDeviceTotalMem\n",
            "                    0.05%  147.19us       101  1.4570us     135ns  62.309us  cuDeviceGetAttribute\n",
            "                    0.01%  42.979us         1  42.979us  42.979us  42.979us  cuDeviceGetName\n",
            "                    0.01%  38.232us         1  38.232us  38.232us  38.232us  cudaLaunchKernel\n",
            "                    0.00%  5.8650us         1  5.8650us  5.8650us  5.8650us  cuDeviceGetPCIBusId\n",
            "                    0.00%  1.7250us         3     575ns     172ns  1.2200us  cuDeviceGetCount\n",
            "                    0.00%  1.5390us         2     769ns     254ns  1.2850us  cuDeviceGet\n",
            "                    0.00%     266ns         1     266ns     266ns     266ns  cuDeviceGetUuid\n"
          ]
        }
      ]
    },
    {
      "cell_type": "markdown",
      "source": [
        "Here, change DataType from double to float, and recompile the program. "
      ],
      "metadata": {
        "id": "zqBGJclcrA_H"
      }
    },
    {
      "cell_type": "code",
      "source": [
        "!nvcc lab3_ex2.cu -o lab3_ex2\n",
        "!nvprof ./lab3_ex2 128 512 128\n",
        "!nvprof ./lab3_ex2 256 512 256\n",
        "!nvprof ./lab3_ex2 512 512 512\n",
        "!nvprof ./lab3_ex2 768 512 768\n",
        "!nvprof ./lab3_ex2 1024 512 1024"
      ],
      "metadata": {
        "colab": {
          "base_uri": "https://localhost:8080/"
        },
        "id": "cF1-kghYrIZE",
        "outputId": "0896c32b-afd0-4f3a-c665-07e1f27d1f0d"
      },
      "execution_count": 17,
      "outputs": [
        {
          "output_type": "stream",
          "name": "stdout",
          "text": [
            "Input matrix dim (128 x 512) (512 x 128) (128 x 128)\n",
            "==909== NVPROF is profiling process 909, command: ./lab3_ex2 128 512 128\n",
            "GEMM result is CORRECT\n",
            "==909== Profiling application: ./lab3_ex2 128 512 128\n",
            "==909== Profiling result:\n",
            "            Type  Time(%)      Time     Calls       Avg       Min       Max  Name\n",
            " GPU activities:   77.46%  205.69us         1  205.69us  205.69us  205.69us  gemm(float*, float*, float*, int, int, int, int)\n",
            "                   19.91%  52.864us         2  26.432us  26.240us  26.624us  [CUDA memcpy HtoD]\n",
            "                    2.63%  6.9760us         1  6.9760us  6.9760us  6.9760us  [CUDA memcpy DtoH]\n",
            "      API calls:   99.61%  303.25ms         3  101.08ms  2.1670us  303.25ms  cudaMalloc\n",
            "                    0.15%  471.68us         3  157.23us  83.858us  297.31us  cudaMemcpy\n",
            "                    0.11%  345.07us         1  345.07us  345.07us  345.07us  cuDeviceTotalMem\n",
            "                    0.05%  161.34us       101  1.5970us     129ns  68.142us  cuDeviceGetAttribute\n",
            "                    0.05%  141.50us         3  47.167us  4.1060us  121.84us  cudaFree\n",
            "                    0.01%  28.333us         1  28.333us  28.333us  28.333us  cuDeviceGetName\n",
            "                    0.01%  28.208us         1  28.208us  28.208us  28.208us  cudaLaunchKernel\n",
            "                    0.00%  6.5360us         1  6.5360us  6.5360us  6.5360us  cuDeviceGetPCIBusId\n",
            "                    0.00%  4.7520us         2  2.3760us     341ns  4.4110us  cuDeviceGet\n",
            "                    0.00%  2.0190us         3     673ns     218ns  1.5150us  cuDeviceGetCount\n",
            "                    0.00%     305ns         1     305ns     305ns     305ns  cuDeviceGetUuid\n",
            "Input matrix dim (256 x 512) (512 x 256) (256 x 256)\n",
            "==920== NVPROF is profiling process 920, command: ./lab3_ex2 256 512 256\n",
            "GEMM result is CORRECT\n",
            "==920== Profiling application: ./lab3_ex2 256 512 256\n",
            "==920== Profiling result:\n",
            "            Type  Time(%)      Time     Calls       Avg       Min       Max  Name\n",
            " GPU activities:   86.66%  762.13us         1  762.13us  762.13us  762.13us  gemm(float*, float*, float*, int, int, int, int)\n",
            "                   10.82%  95.198us         2  47.599us  47.391us  47.807us  [CUDA memcpy HtoD]\n",
            "                    2.51%  22.111us         1  22.111us  22.111us  22.111us  [CUDA memcpy DtoH]\n",
            "      API calls:   99.30%  285.97ms         3  95.323ms  2.4420us  285.96ms  cudaMalloc\n",
            "                    0.45%  1.3042ms         3  434.72us  154.56us  985.24us  cudaMemcpy\n",
            "                    0.13%  387.73us         1  387.73us  387.73us  387.73us  cuDeviceTotalMem\n",
            "                    0.05%  141.60us       101  1.4010us     129ns  59.255us  cuDeviceGetAttribute\n",
            "                    0.04%  126.21us         3  42.068us  3.5920us  109.72us  cudaFree\n",
            "                    0.01%  28.851us         1  28.851us  28.851us  28.851us  cudaLaunchKernel\n",
            "                    0.01%  27.289us         1  27.289us  27.289us  27.289us  cuDeviceGetName\n",
            "                    0.00%  6.8160us         1  6.8160us  6.8160us  6.8160us  cuDeviceGetPCIBusId\n",
            "                    0.00%  1.6810us         3     560ns     192ns  1.1490us  cuDeviceGetCount\n",
            "                    0.00%  1.5310us         2     765ns     381ns  1.1500us  cuDeviceGet\n",
            "                    0.00%     334ns         1     334ns     334ns     334ns  cuDeviceGetUuid\n",
            "Input matrix dim (512 x 512) (512 x 512) (512 x 512)\n",
            "==931== NVPROF is profiling process 931, command: ./lab3_ex2 512 512 512\n",
            "GEMM result is CORRECT\n",
            "==931== Profiling application: ./lab3_ex2 512 512 512\n",
            "==931== Profiling result:\n",
            "            Type  Time(%)      Time     Calls       Avg       Min       Max  Name\n",
            " GPU activities:   90.80%  2.5764ms         1  2.5764ms  2.5764ms  2.5764ms  gemm(float*, float*, float*, int, int, int, int)\n",
            "                    6.32%  179.36us         2  89.678us  88.254us  91.102us  [CUDA memcpy HtoD]\n",
            "                    2.88%  81.630us         1  81.630us  81.630us  81.630us  [CUDA memcpy DtoH]\n",
            "      API calls:   98.40%  294.23ms         3  98.078ms  4.0050us  294.14ms  cudaMalloc\n",
            "                    1.32%  3.9574ms         3  1.3191ms  244.24us  3.3935ms  cudaMemcpy\n",
            "                    0.12%  346.76us         1  346.76us  346.76us  346.76us  cuDeviceTotalMem\n",
            "                    0.09%  262.93us         3  87.644us  18.670us  124.11us  cudaFree\n",
            "                    0.05%  140.86us       101  1.3940us     133ns  60.315us  cuDeviceGetAttribute\n",
            "                    0.01%  38.578us         1  38.578us  38.578us  38.578us  cudaLaunchKernel\n",
            "                    0.01%  25.567us         1  25.567us  25.567us  25.567us  cuDeviceGetName\n",
            "                    0.00%  6.3550us         1  6.3550us  6.3550us  6.3550us  cuDeviceGetPCIBusId\n",
            "                    0.00%  1.4040us         3     468ns     172ns     876ns  cuDeviceGetCount\n",
            "                    0.00%  1.3120us         2     656ns     381ns     931ns  cuDeviceGet\n",
            "                    0.00%     290ns         1     290ns     290ns     290ns  cuDeviceGetUuid\n",
            "Input matrix dim (768 x 512) (512 x 768) (768 x 768)\n",
            "==942== NVPROF is profiling process 942, command: ./lab3_ex2 768 512 768\n",
            "GEMM result is CORRECT\n",
            "==942== Profiling application: ./lab3_ex2 768 512 768\n",
            "==942== Profiling result:\n",
            "            Type  Time(%)      Time     Calls       Avg       Min       Max  Name\n",
            " GPU activities:   84.04%  5.7721ms         1  5.7721ms  5.7721ms  5.7721ms  gemm(float*, float*, float*, int, int, int, int)\n",
            "                   11.31%  776.69us         1  776.69us  776.69us  776.69us  [CUDA memcpy DtoH]\n",
            "                    4.65%  319.42us         2  159.71us  154.27us  165.15us  [CUDA memcpy HtoD]\n",
            "      API calls:   96.97%  292.23ms         3  97.410ms  81.948us  292.06ms  cudaMalloc\n",
            "                    2.70%  8.1294ms         3  2.7098ms  348.89us  7.3813ms  cudaMemcpy\n",
            "                    0.13%  389.31us         1  389.31us  389.31us  389.31us  cuDeviceTotalMem\n",
            "                    0.13%  379.69us         3  126.56us  117.54us  142.12us  cudaFree\n",
            "                    0.05%  158.08us       101  1.5650us     127ns  65.682us  cuDeviceGetAttribute\n",
            "                    0.01%  37.016us         1  37.016us  37.016us  37.016us  cudaLaunchKernel\n",
            "                    0.01%  27.052us         1  27.052us  27.052us  27.052us  cuDeviceGetName\n",
            "                    0.00%  6.0760us         1  6.0760us  6.0760us  6.0760us  cuDeviceGetPCIBusId\n",
            "                    0.00%  1.4610us         3     487ns     166ns     949ns  cuDeviceGetCount\n",
            "                    0.00%  1.3860us         2     693ns     397ns     989ns  cuDeviceGet\n",
            "                    0.00%     251ns         1     251ns     251ns     251ns  cuDeviceGetUuid\n",
            "Input matrix dim (1024 x 512) (512 x 1024) (1024 x 1024)\n",
            "==955== NVPROF is profiling process 955, command: ./lab3_ex2 1024 512 1024\n",
            "GEMM result is CORRECT\n",
            "==955== Profiling application: ./lab3_ex2 1024 512 1024\n",
            "==955== Profiling result:\n",
            "            Type  Time(%)      Time     Calls       Avg       Min       Max  Name\n",
            " GPU activities:   82.79%  10.218ms         1  10.218ms  10.218ms  10.218ms  gemm(float*, float*, float*, int, int, int, int)\n",
            "                   12.20%  1.5057ms         1  1.5057ms  1.5057ms  1.5057ms  [CUDA memcpy DtoH]\n",
            "                    5.01%  618.71us         2  309.35us  304.35us  314.36us  [CUDA memcpy HtoD]\n",
            "      API calls:   95.12%  292.80ms         3  97.599ms  86.076us  292.62ms  cudaMalloc\n",
            "                    4.56%  14.042ms         3  4.6808ms  495.57us  13.018ms  cudaMemcpy\n",
            "                    0.14%  425.54us         3  141.85us  123.34us  178.38us  cudaFree\n",
            "                    0.12%  354.73us         1  354.73us  354.73us  354.73us  cuDeviceTotalMem\n",
            "                    0.05%  142.41us       101  1.4100us     131ns  62.109us  cuDeviceGetAttribute\n",
            "                    0.01%  33.050us         1  33.050us  33.050us  33.050us  cudaLaunchKernel\n",
            "                    0.01%  27.929us         1  27.929us  27.929us  27.929us  cuDeviceGetName\n",
            "                    0.00%  5.2060us         1  5.2060us  5.2060us  5.2060us  cuDeviceGetPCIBusId\n",
            "                    0.00%  1.5260us         3     508ns     199ns     962ns  cuDeviceGetCount\n",
            "                    0.00%  1.2840us         2     642ns     232ns  1.0520us  cuDeviceGet\n",
            "                    0.00%     274ns         1     274ns     274ns     274ns  cuDeviceGetUuid\n"
          ]
        }
      ]
    }
  ]
}