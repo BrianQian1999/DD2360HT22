{
  "nbformat": 4,
  "nbformat_minor": 0,
  "metadata": {
    "colab": {
      "provenance": [],
      "authorship_tag": "ABX9TyOEWK7uaybq0DHBic4dSzkW",
      "include_colab_link": true
    },
    "kernelspec": {
      "name": "python3",
      "display_name": "Python 3"
    },
    "language_info": {
      "name": "python"
    },
    "accelerator": "GPU",
    "gpuClass": "standard"
  },
  "cells": [
    {
      "cell_type": "markdown",
      "metadata": {
        "id": "view-in-github",
        "colab_type": "text"
      },
      "source": [
        "<a href=\"https://colab.research.google.com/github/BrianQian1999/DD2360HT22/blob/main/hw_3/ex_3/lab3_ex3.ipynb\" target=\"_parent\"><img src=\"https://colab.research.google.com/assets/colab-badge.svg\" alt=\"Open In Colab\"/></a>"
      ]
    },
    {
      "cell_type": "code",
      "execution_count": 75,
      "metadata": {
        "id": "n5zJLdztfSfA"
      },
      "outputs": [],
      "source": [
        "!nvcc lab3_ex3.cu -o lab3_ex3"
      ]
    },
    {
      "cell_type": "markdown",
      "source": [
        "Verify the correctness of the program:\n",
        "\n"
      ],
      "metadata": {
        "id": "ZZCzXqP51w1U"
      }
    },
    {
      "cell_type": "code",
      "source": [
        "!./lab3_ex3 40960"
      ],
      "metadata": {
        "colab": {
          "base_uri": "https://localhost:8080/"
        },
        "id": "xV4305I6gFRs",
        "outputId": "db773102-b5d6-4ff9-8400-e8cae3491781"
      },
      "execution_count": 77,
      "outputs": [
        {
          "output_type": "stream",
          "name": "stdout",
          "text": [
            "The input length is 40960\n",
            "The results are CORRECT.\n"
          ]
        }
      ]
    },
    {
      "cell_type": "markdown",
      "source": [
        "Q1: optimize the program by try out different TPB:"
      ],
      "metadata": {
        "id": "4kHySbzK14Mn"
      }
    },
    {
      "cell_type": "code",
      "source": [
        "!nvcc lab3_ex3.cu -o lab3_ex3_TPB64"
      ],
      "metadata": {
        "id": "msQsqKEQ2COn"
      },
      "execution_count": 80,
      "outputs": []
    },
    {
      "cell_type": "code",
      "source": [
        "!nvcc lab3_ex3.cu -o lab3_ex3_TPB128"
      ],
      "metadata": {
        "id": "4z6zTMOR2pUo"
      },
      "execution_count": 84,
      "outputs": []
    },
    {
      "cell_type": "code",
      "source": [
        "!nvcc lab3_ex3.cu -o lab3_ex3_TPB256"
      ],
      "metadata": {
        "id": "7RXfRWBn2tTS"
      },
      "execution_count": 82,
      "outputs": []
    },
    {
      "cell_type": "code",
      "source": [
        "!nvprof ./lab3_ex3_TPB64 40960\n",
        "!nvprof ./lab3_ex3_TPB128 40960\n",
        "!nvprof ./lab3_ex3_TPB256 40960"
      ],
      "metadata": {
        "colab": {
          "base_uri": "https://localhost:8080/"
        },
        "id": "kbY8WGtI23kT",
        "outputId": "71f4017b-345b-4063-85cf-029caef7acc9"
      },
      "execution_count": 87,
      "outputs": [
        {
          "output_type": "stream",
          "name": "stdout",
          "text": [
            "The input length is 40960\n",
            "==1866== NVPROF is profiling process 1866, command: ./lab3_ex3_TPB64 40960\n",
            "The results are CORRECT.\n",
            "==1866== Profiling application: ./lab3_ex3_TPB64 40960\n",
            "==1866== Profiling result:\n",
            "            Type  Time(%)      Time     Calls       Avg       Min       Max  Name\n",
            " GPU activities:   93.48%  460.15us         1  460.15us  460.15us  460.15us  histogram_kernel(unsigned int*, unsigned int*, unsigned int, unsigned int)\n",
            "                    3.81%  18.752us         1  18.752us  18.752us  18.752us  [CUDA memcpy HtoD]\n",
            "                    1.03%  5.0550us         1  5.0550us  5.0550us  5.0550us  [CUDA memset]\n",
            "                    0.98%  4.8000us         1  4.8000us  4.8000us  4.8000us  convert_kernel(unsigned int*, unsigned int)\n",
            "                    0.71%  3.4880us         1  3.4880us  3.4880us  3.4880us  [CUDA memcpy DtoH]\n",
            "      API calls:   99.37%  211.98ms         2  105.99ms  3.8230us  211.98ms  cudaMalloc\n",
            "                    0.26%  553.34us         2  276.67us  65.622us  487.72us  cudaMemcpy\n",
            "                    0.18%  392.54us         1  392.54us  392.54us  392.54us  cuDeviceTotalMem\n",
            "                    0.07%  157.85us       101  1.5620us     138ns  67.070us  cuDeviceGetAttribute\n",
            "                    0.07%  144.39us         2  72.195us  24.978us  119.41us  cudaFree\n",
            "                    0.02%  42.151us         1  42.151us  42.151us  42.151us  cuDeviceGetName\n",
            "                    0.01%  28.324us         1  28.324us  28.324us  28.324us  cudaMemset\n",
            "                    0.01%  19.363us         2  9.6810us  5.8660us  13.497us  cudaLaunchKernel\n",
            "                    0.00%  5.5490us         1  5.5490us  5.5490us  5.5490us  cuDeviceGetPCIBusId\n",
            "                    0.00%  1.4050us         2     702ns     422ns     983ns  cuDeviceGet\n",
            "                    0.00%  1.3410us         3     447ns     172ns     826ns  cuDeviceGetCount\n",
            "                    0.00%     300ns         1     300ns     300ns     300ns  cuDeviceGetUuid\n",
            "The input length is 40960\n",
            "==1877== NVPROF is profiling process 1877, command: ./lab3_ex3_TPB128 40960\n",
            "The results are CORRECT.\n",
            "==1877== Profiling application: ./lab3_ex3_TPB128 40960\n",
            "==1877== Profiling result:\n",
            "            Type  Time(%)      Time     Calls       Avg       Min       Max  Name\n",
            " GPU activities:   90.12%  271.45us         1  271.45us  271.45us  271.45us  histogram_kernel(unsigned int*, unsigned int*, unsigned int, unsigned int)\n",
            "                    5.60%  16.864us         1  16.864us  16.864us  16.864us  [CUDA memcpy HtoD]\n",
            "                    1.80%  5.4080us         1  5.4080us  5.4080us  5.4080us  [CUDA memset]\n",
            "                    1.42%  4.2880us         1  4.2880us  4.2880us  4.2880us  convert_kernel(unsigned int*, unsigned int)\n",
            "                    1.06%  3.2000us         1  3.2000us  3.2000us  3.2000us  [CUDA memcpy DtoH]\n",
            "      API calls:   99.45%  197.90ms         2  98.948ms  3.7280us  197.89ms  cudaMalloc\n",
            "                    0.18%  366.52us         1  366.52us  366.52us  366.52us  cuDeviceTotalMem\n",
            "                    0.18%  359.99us         2  180.00us  63.106us  296.89us  cudaMemcpy\n",
            "                    0.08%  149.99us       101  1.4850us     129ns  63.445us  cuDeviceGetAttribute\n",
            "                    0.07%  131.62us         2  65.811us  10.429us  121.19us  cudaFree\n",
            "                    0.02%  30.084us         1  30.084us  30.084us  30.084us  cuDeviceGetName\n",
            "                    0.01%  23.728us         1  23.728us  23.728us  23.728us  cudaMemset\n",
            "                    0.01%  21.008us         2  10.504us  6.8830us  14.125us  cudaLaunchKernel\n",
            "                    0.00%  4.9300us         1  4.9300us  4.9300us  4.9300us  cuDeviceGetPCIBusId\n",
            "                    0.00%  1.5670us         2     783ns     413ns  1.1540us  cuDeviceGet\n",
            "                    0.00%  1.1700us         3     390ns     175ns     666ns  cuDeviceGetCount\n",
            "                    0.00%     279ns         1     279ns     279ns     279ns  cuDeviceGetUuid\n",
            "The input length is 40960\n",
            "==1888== NVPROF is profiling process 1888, command: ./lab3_ex3_TPB256 40960\n",
            "The results are CORRECT.\n",
            "==1888== Profiling application: ./lab3_ex3_TPB256 40960\n",
            "==1888== Profiling result:\n",
            "            Type  Time(%)      Time     Calls       Avg       Min       Max  Name\n",
            " GPU activities:   85.25%  171.87us         1  171.87us  171.87us  171.87us  histogram_kernel(unsigned int*, unsigned int*, unsigned int, unsigned int)\n",
            "                    8.49%  17.119us         1  17.119us  17.119us  17.119us  [CUDA memcpy HtoD]\n",
            "                    2.52%  5.0880us         1  5.0880us  5.0880us  5.0880us  [CUDA memset]\n",
            "                    2.14%  4.3200us         1  4.3200us  4.3200us  4.3200us  convert_kernel(unsigned int*, unsigned int)\n",
            "                    1.59%  3.2000us         1  3.2000us  3.2000us  3.2000us  [CUDA memcpy DtoH]\n",
            "      API calls:   99.51%  203.97ms         2  101.98ms  5.6110us  203.96ms  cudaMalloc\n",
            "                    0.18%  372.08us         1  372.08us  372.08us  372.08us  cuDeviceTotalMem\n",
            "                    0.12%  255.07us         2  127.54us  58.355us  196.72us  cudaMemcpy\n",
            "                    0.08%  157.74us       101  1.5610us     141ns  68.656us  cuDeviceGetAttribute\n",
            "                    0.06%  128.62us         2  64.312us  9.9170us  118.71us  cudaFree\n",
            "                    0.01%  28.562us         1  28.562us  28.562us  28.562us  cuDeviceGetName\n",
            "                    0.01%  23.784us         1  23.784us  23.784us  23.784us  cudaMemset\n",
            "                    0.01%  19.107us         2  9.5530us  6.0260us  13.081us  cudaLaunchKernel\n",
            "                    0.00%  6.7960us         1  6.7960us  6.7960us  6.7960us  cuDeviceGetPCIBusId\n",
            "                    0.00%  1.2350us         3     411ns     177ns     658ns  cuDeviceGetCount\n",
            "                    0.00%  1.1850us         2     592ns     240ns     945ns  cuDeviceGet\n",
            "                    0.00%     258ns         1     258ns     258ns     258ns  cuDeviceGetUuid\n"
          ]
        }
      ]
    },
    {
      "cell_type": "code",
      "source": [
        "!nvcc lab3_ex3.cu -o lab3_ex3_Q7\n",
        "!./lab3_ex3_Q7 10240"
      ],
      "metadata": {
        "colab": {
          "base_uri": "https://localhost:8080/"
        },
        "id": "iIvyVod7CBOo",
        "outputId": "09368204-bca5-4797-9387-ca255d05357f"
      },
      "execution_count": 90,
      "outputs": [
        {
          "output_type": "stream",
          "name": "stdout",
          "text": [
            "The input length is 10240\n",
            "The results are CORRECT.\n",
            "63, 46, 58, 51, 52, 60, 50, 47, 44, 44, 52, 51, 50, 48, 48, 51, 53, 54, 62, 46, 47, 57, 44, 56, 43, 49, 59, 55, 67, 55, 49, 49, 50, 53, 45, 53, 52, 46, 55, 47, 54, 36, 52, 44, 49, 53, 57, 58, 35, 49, 51, 58, 48, 55, 48, 53, 48, 69, 51, 51, 68, 48, 41, 37, 52, 49, 45, 56, 45, 64, 43, 54, 65, 51, 39, 49, 54, 41, 48, 43, 51, 64, 50, 52, 52, 54, 59, 52, 52, 42, 58, 51, 67, 47, 59, 46, 48, 51, 55, 48, 50, 48, 53, 48, 65, 43, 41, 51, 59, 46, 51, 45, 45, 40, 43, 54, 49, 45, 51, 47, 55, 40, 49, 62, 58, 54, 48, 58, 64, 53, 50, 50, 51, 44, 50, 46, 53, 50, 65, 64, 55, 52, 56, 47, 40, 39, 59, 44, 38, 57, 54, 58, 47, 44, 68, 45, 43, 54, 52, 53, 55, 49, 47, 52, 54, 49, 54, 60, 57, 45, 53, 48, 50, 48, 57, 45, 56, 56, 28, 48, 58, 48, 51, 46, 57, 43, 67, 52, 39, 64, 59, 61, 48, 53, 57, 40, 66, 59, 43, 45, "
          ]
        }
      ]
    },
    {
      "cell_type": "code",
      "source": [
        "!nvcc lab3_ex3.cu -o lab3_ex3_Q8\n",
        "!/usr/local/cuda-11/bin/nv-nsight-cu-cli ./lab3_ex3_Q8 1024"
      ],
      "metadata": {
        "colab": {
          "base_uri": "https://localhost:8080/"
        },
        "id": "QCBDOe-UDH14",
        "outputId": "f95ecb0d-00c8-4106-f6a6-4f592bb24840"
      },
      "execution_count": 91,
      "outputs": [
        {
          "output_type": "stream",
          "name": "stdout",
          "text": [
            "The input length is 1024\n",
            "==PROF== Connected to process 2135 (/content/lab3_ex3_Q8)\n",
            "==PROF== Profiling \"histogram_kernel\" - 1: 0%....50%....100% - 8 passes\n",
            "==PROF== Profiling \"convert_kernel\" - 2: 0%....50%....100% - 8 passes\n",
            "The results are CORRECT.\n",
            "==PROF== Disconnected from process 2135\n",
            "[2135] lab3_ex3_Q8@127.0.0.1\n",
            "  histogram_kernel(unsigned int*, unsigned int*, unsigned int, unsigned int), 2022-Dec-15 09:27:54, Context 1, Stream 7\n",
            "    Section: GPU Speed Of Light\n",
            "    ---------------------------------------------------------------------- --------------- ------------------------------\n",
            "    DRAM Frequency                                                           cycle/nsecond                           4.93\n",
            "    SM Frequency                                                             cycle/usecond                         577.73\n",
            "    Elapsed Cycles                                                                   cycle                         34,054\n",
            "    Memory [%]                                                                           %                           3.70\n",
            "    SOL DRAM                                                                             %                           0.20\n",
            "    Duration                                                                       usecond                          58.94\n",
            "    SOL L1/TEX Cache                                                                     %                          38.37\n",
            "    SOL L2 Cache                                                                         %                           1.40\n",
            "    SM Active Cycles                                                                 cycle                       3,281.32\n",
            "    SM [%]                                                                               %                           3.70\n",
            "    ---------------------------------------------------------------------- --------------- ------------------------------\n",
            "    WRN   This kernel grid is too small to fill the available resources on this device, resulting in only 0.0 full      \n",
            "          waves across all SMs. Look at Launch Statistics for more details.                                             \n",
            "\n",
            "    Section: Launch Statistics\n",
            "    ---------------------------------------------------------------------- --------------- ------------------------------\n",
            "    Block Size                                                                                                        256\n",
            "    Function Cache Configuration                                                                  cudaFuncCachePreferNone\n",
            "    Grid Size                                                                                                           4\n",
            "    Registers Per Thread                                                   register/thread                             36\n",
            "    Shared Memory Configuration Size                                                 Kbyte                          65.54\n",
            "    Driver Shared Memory Per Block                                              byte/block                              0\n",
            "    Dynamic Shared Memory Per Block                                             byte/block                              0\n",
            "    Static Shared Memory Per Block                                             Kbyte/block                          16.38\n",
            "    Threads                                                                         thread                          1,024\n",
            "    Waves Per SM                                                                                                     0.03\n",
            "    ---------------------------------------------------------------------- --------------- ------------------------------\n",
            "    WRN   The grid for this launch is configured to execute only 4 blocks, which is less than the GPU's 40              \n",
            "          multiprocessors. This can underutilize some multiprocessors. If you do not intend to execute this kernel      \n",
            "          concurrently with other workloads, consider reducing the block size to have at least one block per            \n",
            "          multiprocessor or increase the size of the grid to fully utilize the available hardware resources.            \n",
            "\n",
            "    Section: Occupancy\n",
            "    ---------------------------------------------------------------------- --------------- ------------------------------\n",
            "    Block Limit SM                                                                   block                             16\n",
            "    Block Limit Registers                                                            block                              6\n",
            "    Block Limit Shared Mem                                                           block                              4\n",
            "    Block Limit Warps                                                                block                              4\n",
            "    Theoretical Active Warps per SM                                                   warp                             32\n",
            "    Theoretical Occupancy                                                                %                            100\n",
            "    Achieved Occupancy                                                                   %                           6.34\n",
            "    Achieved Active Warps Per SM                                                      warp                           2.03\n",
            "    ---------------------------------------------------------------------- --------------- ------------------------------\n",
            "\n",
            "  convert_kernel(unsigned int*, unsigned int), 2022-Dec-15 09:27:54, Context 1, Stream 7\n",
            "    Section: GPU Speed Of Light\n",
            "    ---------------------------------------------------------------------- --------------- ------------------------------\n",
            "    DRAM Frequency                                                           cycle/nsecond                           4.81\n",
            "    SM Frequency                                                             cycle/usecond                         565.38\n",
            "    Elapsed Cycles                                                                   cycle                          2,045\n",
            "    Memory [%]                                                                           %                           0.72\n",
            "    SOL DRAM                                                                             %                           0.48\n",
            "    Duration                                                                       usecond                           3.62\n",
            "    SOL L1/TEX Cache                                                                     %                           4.95\n",
            "    SOL L2 Cache                                                                         %                           0.72\n",
            "    SM Active Cycles                                                                 cycle                          88.95\n",
            "    SM [%]                                                                               %                           0.16\n",
            "    ---------------------------------------------------------------------- --------------- ------------------------------\n",
            "    WRN   This kernel grid is too small to fill the available resources on this device, resulting in only 0.0 full      \n",
            "          waves across all SMs. Look at Launch Statistics for more details.                                             \n",
            "\n",
            "    Section: Launch Statistics\n",
            "    ---------------------------------------------------------------------- --------------- ------------------------------\n",
            "    Block Size                                                                                                        256\n",
            "    Function Cache Configuration                                                                  cudaFuncCachePreferNone\n",
            "    Grid Size                                                                                                           4\n",
            "    Registers Per Thread                                                   register/thread                             16\n",
            "    Shared Memory Configuration Size                                                 Kbyte                          32.77\n",
            "    Driver Shared Memory Per Block                                              byte/block                              0\n",
            "    Dynamic Shared Memory Per Block                                             byte/block                              0\n",
            "    Static Shared Memory Per Block                                              byte/block                              0\n",
            "    Threads                                                                         thread                          1,024\n",
            "    Waves Per SM                                                                                                     0.03\n",
            "    ---------------------------------------------------------------------- --------------- ------------------------------\n",
            "    WRN   The grid for this launch is configured to execute only 4 blocks, which is less than the GPU's 40              \n",
            "          multiprocessors. This can underutilize some multiprocessors. If you do not intend to execute this kernel      \n",
            "          concurrently with other workloads, consider reducing the block size to have at least one block per            \n",
            "          multiprocessor or increase the size of the grid to fully utilize the available hardware resources.            \n",
            "\n",
            "    Section: Occupancy\n",
            "    ---------------------------------------------------------------------- --------------- ------------------------------\n",
            "    Block Limit SM                                                                   block                             16\n",
            "    Block Limit Registers                                                            block                             16\n",
            "    Block Limit Shared Mem                                                           block                             16\n",
            "    Block Limit Warps                                                                block                              4\n",
            "    Theoretical Active Warps per SM                                                   warp                             32\n",
            "    Theoretical Occupancy                                                                %                            100\n",
            "    Achieved Occupancy                                                                   %                          24.50\n",
            "    Achieved Active Warps Per SM                                                      warp                           7.84\n",
            "    ---------------------------------------------------------------------- --------------- ------------------------------\n",
            "\n"
          ]
        }
      ]
    }
  ]
}